{
  "nbformat": 4,
  "nbformat_minor": 0,
  "metadata": {
    "colab": {
      "private_outputs": true,
      "provenance": []
    },
    "kernelspec": {
      "name": "python3",
      "display_name": "Python 3"
    },
    "language_info": {
      "name": "python"
    }
  },
  "cells": [
    {
      "cell_type": "code",
      "execution_count": null,
      "metadata": {
        "id": "mhHwVzjHlZeK"
      },
      "outputs": [],
      "source": [
        "from google.colab import drive\n",
        "drive.mount('/content/gdrive', force_remount=True)"
      ]
    },
    {
      "cell_type": "code",
      "source": [
        "import pandas as pd\n",
        "import numpy as np"
      ],
      "metadata": {
        "id": "Yc3xyTUrlxPQ"
      },
      "execution_count": null,
      "outputs": []
    },
    {
      "cell_type": "code",
      "source": [
        "df = pd.read_excel('/content/gdrive/MyDrive/싼데비스탄/비버웍스_샘플데이터_open.xlsx', sheet_name=None)\n",
        "dirty = pd.read_excel('/content/gdrive/MyDrive/싼데비스탄/해커톤참고자료(dirty).xlsx')"
      ],
      "metadata": {
        "id": "KywSnJolmGeY"
      },
      "execution_count": null,
      "outputs": []
    },
    {
      "cell_type": "code",
      "source": [
        "orderQueen = df['오더퀸']\n",
        "unos = df['우노스']"
      ],
      "metadata": {
        "id": "4Az_CA1ym3_-"
      },
      "execution_count": null,
      "outputs": []
    },
    {
      "cell_type": "markdown",
      "source": [
        "# 전처리\n",
        "### 모든 데이터에 적용 가능해야 함\n",
        "- 동일한 데이터프레임 Form으로 변경\n",
        "- 취사선택 기능 (제거할 특수문자 입력)\n",
        "- 동일한 기준 설정 (영어, 단위 제거)\n",
        "- 오탈자 교정 (자모 단위)\n",
        "- 띄어쓰기 교정 (soynlp - soyspacing)\n"
      ],
      "metadata": {
        "id": "eQyVdv4xqjk_"
      }
    },
    {
      "cell_type": "markdown",
      "source": [
        "## OrderQueen"
      ],
      "metadata": {
        "id": "gfSAZYWzogzc"
      }
    },
    {
      "cell_type": "code",
      "source": [
        "orderQueen.info()"
      ],
      "metadata": {
        "id": "Oa5fvkWuol8Y"
      },
      "execution_count": null,
      "outputs": []
    },
    {
      "cell_type": "code",
      "source": [
        "orderQueen.duplicated().sum()"
      ],
      "metadata": {
        "id": "B_Q8MihmpuXG"
      },
      "execution_count": null,
      "outputs": []
    },
    {
      "cell_type": "code",
      "source": [
        "orderQueen.head()"
      ],
      "metadata": {
        "id": "DBoUvD_vo8lc"
      },
      "execution_count": null,
      "outputs": []
    },
    {
      "cell_type": "code",
      "source": [
        "orderQueen.tail()"
      ],
      "metadata": {
        "id": "H0zBBmWno-vN"
      },
      "execution_count": null,
      "outputs": []
    },
    {
      "cell_type": "code",
      "source": [],
      "metadata": {
        "id": "RYvVZoc1o-ib"
      },
      "execution_count": null,
      "outputs": []
    },
    {
      "cell_type": "code",
      "source": [],
      "metadata": {
        "id": "diV8fA4Eo-f3"
      },
      "execution_count": null,
      "outputs": []
    },
    {
      "cell_type": "markdown",
      "source": [
        "# Unos"
      ],
      "metadata": {
        "id": "LP_4aTeTotXr"
      }
    },
    {
      "cell_type": "code",
      "source": [
        "unos.info()"
      ],
      "metadata": {
        "id": "HNbkFfAxouqP"
      },
      "execution_count": null,
      "outputs": []
    },
    {
      "cell_type": "code",
      "source": [
        "unos[unos['카테고리명'].isnull()]"
      ],
      "metadata": {
        "id": "mT5uPfa-oxBB"
      },
      "execution_count": null,
      "outputs": []
    },
    {
      "cell_type": "code",
      "source": [
        "unos['메뉴코드'].duplicated().sum()"
      ],
      "metadata": {
        "id": "PMjsHpBCoycU"
      },
      "execution_count": null,
      "outputs": []
    },
    {
      "cell_type": "code",
      "source": [
        "unos.head()"
      ],
      "metadata": {
        "id": "R9cOeOE1o1hI"
      },
      "execution_count": null,
      "outputs": []
    },
    {
      "cell_type": "code",
      "source": [
        "unos.tail()"
      ],
      "metadata": {
        "id": "pnIaUWBBqATt"
      },
      "execution_count": null,
      "outputs": []
    },
    {
      "cell_type": "code",
      "source": [],
      "metadata": {
        "id": "RhUZyYs-qBjT"
      },
      "execution_count": null,
      "outputs": []
    },
    {
      "cell_type": "code",
      "source": [],
      "metadata": {
        "id": "m7UVzJUEqh-u"
      },
      "execution_count": null,
      "outputs": []
    },
    {
      "cell_type": "markdown",
      "source": [
        "# Dirty Sample"
      ],
      "metadata": {
        "id": "dq6U2NsKqYHc"
      }
    },
    {
      "cell_type": "code",
      "source": [
        "dirty.info()"
      ],
      "metadata": {
        "id": "kIKt0gR-qbGl"
      },
      "execution_count": null,
      "outputs": []
    },
    {
      "cell_type": "code",
      "source": [
        "dirty"
      ],
      "metadata": {
        "id": "gWlDkmvnqdRX"
      },
      "execution_count": null,
      "outputs": []
    }
  ]
}