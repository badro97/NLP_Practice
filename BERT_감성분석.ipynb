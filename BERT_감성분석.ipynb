{
  "cells": [
    {
      "cell_type": "code",
      "execution_count": null,
      "metadata": {
        "colab": {
          "base_uri": "https://localhost:8080/"
        },
        "id": "CgzzBlaBkC8I",
        "outputId": "b4cf23f8-1953-4562-b9d2-0517186a3332"
      },
      "outputs": [
        {
          "output_type": "stream",
          "name": "stdout",
          "text": [
            "Thu Jan 11 01:31:24 2024       \n",
            "+---------------------------------------------------------------------------------------+\n",
            "| NVIDIA-SMI 535.104.05             Driver Version: 535.104.05   CUDA Version: 12.2     |\n",
            "|-----------------------------------------+----------------------+----------------------+\n",
            "| GPU  Name                 Persistence-M | Bus-Id        Disp.A | Volatile Uncorr. ECC |\n",
            "| Fan  Temp   Perf          Pwr:Usage/Cap |         Memory-Usage | GPU-Util  Compute M. |\n",
            "|                                         |                      |               MIG M. |\n",
            "|=========================================+======================+======================|\n",
            "|   0  Tesla T4                       Off | 00000000:00:04.0 Off |                    0 |\n",
            "| N/A   66C    P8              13W /  70W |      0MiB / 15360MiB |      0%      Default |\n",
            "|                                         |                      |                  N/A |\n",
            "+-----------------------------------------+----------------------+----------------------+\n",
            "                                                                                         \n",
            "+---------------------------------------------------------------------------------------+\n",
            "| Processes:                                                                            |\n",
            "|  GPU   GI   CI        PID   Type   Process name                            GPU Memory |\n",
            "|        ID   ID                                                             Usage      |\n",
            "|=======================================================================================|\n",
            "|  No running processes found                                                           |\n",
            "+---------------------------------------------------------------------------------------+\n"
          ]
        }
      ],
      "source": [
        "! nvidia-smi"
      ]
    },
    {
      "cell_type": "markdown",
      "metadata": {
        "id": "jOYzp9fUii2T"
      },
      "source": [
        "## 데이터 준비"
      ]
    },
    {
      "cell_type": "code",
      "execution_count": null,
      "metadata": {
        "id": "WmqO_a5dikkK"
      },
      "outputs": [],
      "source": [
        "# 출처: https://github.com/e9t/nsmc\n",
        "import pandas as pd\n",
        "df_train = pd.read_csv('ratings_train.txt', sep='\\t')\n",
        "df_test = pd.read_csv('ratings_test.txt', sep='\\t')\n",
        "\n",
        "df_train.dropna(inplace=True)\n",
        "df_test.dropna(inplace=True)\n",
        "\n",
        "df_train.reset_index(drop=True, inplace=True)\n",
        "df_test.reset_index(drop=True, inplace=True)"
      ]
    },
    {
      "cell_type": "code",
      "execution_count": null,
      "metadata": {
        "colab": {
          "base_uri": "https://localhost:8080/"
        },
        "id": "nh_fsp-6kbXh",
        "outputId": "b248e6d8-4984-406d-c345-1a9dfc31315e"
      },
      "outputs": [
        {
          "output_type": "stream",
          "name": "stdout",
          "text": [
            "<class 'pandas.core.frame.DataFrame'>\n",
            "RangeIndex: 149995 entries, 0 to 149994\n",
            "Data columns (total 3 columns):\n",
            " #   Column    Non-Null Count   Dtype \n",
            "---  ------    --------------   ----- \n",
            " 0   id        149995 non-null  int64 \n",
            " 1   document  149995 non-null  object\n",
            " 2   label     149995 non-null  int64 \n",
            "dtypes: int64(2), object(1)\n",
            "memory usage: 3.4+ MB\n"
          ]
        }
      ],
      "source": [
        "df_train.info()"
      ]
    },
    {
      "cell_type": "code",
      "execution_count": null,
      "metadata": {
        "colab": {
          "base_uri": "https://localhost:8080/"
        },
        "id": "NvKYrYpZkdi_",
        "outputId": "6d882642-cbd2-4230-8954-b17a41af40c5"
      },
      "outputs": [
        {
          "output_type": "stream",
          "name": "stdout",
          "text": [
            "<class 'pandas.core.frame.DataFrame'>\n",
            "RangeIndex: 49997 entries, 0 to 49996\n",
            "Data columns (total 3 columns):\n",
            " #   Column    Non-Null Count  Dtype \n",
            "---  ------    --------------  ----- \n",
            " 0   id        49997 non-null  int64 \n",
            " 1   document  49997 non-null  object\n",
            " 2   label     49997 non-null  int64 \n",
            "dtypes: int64(2), object(1)\n",
            "memory usage: 1.1+ MB\n"
          ]
        }
      ],
      "source": [
        "df_test.info()"
      ]
    },
    {
      "cell_type": "markdown",
      "metadata": {
        "id": "BDgeEAiTik2R"
      },
      "source": [
        "## 전처리 (토큰화)"
      ]
    },
    {
      "cell_type": "code",
      "execution_count": null,
      "metadata": {
        "id": "vmEN31GtinBb"
      },
      "outputs": [],
      "source": [
        "!pip install tensorflow_text\n",
        "# !pip install tensorflow_hub\n",
        "\n",
        "import tensorflow_text as text\n",
        "\n",
        "import numpy as np\n",
        "import time\n",
        "\n",
        "import PIL.Image as Image\n",
        "import matplotlib.pylab as plt\n",
        "\n",
        "import tensorflow as tf\n",
        "import tensorflow_hub as hub\n",
        "\n",
        "import datetime\n",
        "\n",
        "%load_ext tensorboard\n",
        "tf.__version__"
      ]
    },
    {
      "cell_type": "code",
      "execution_count": null,
      "metadata": {
        "colab": {
          "base_uri": "https://localhost:8080/"
        },
        "id": "lZ9wop1slG92",
        "outputId": "b1dd6143-2eff-4c2f-94f8-569e1b3dd0ca"
      },
      "outputs": [
        {
          "output_type": "stream",
          "name": "stdout",
          "text": [
            "Model: \"model\"\n",
            "_________________________________________________________________\n",
            " Layer (type)                Output Shape              Param #   \n",
            "=================================================================\n",
            " input_1 (InputLayer)        [(None,)]                 0         \n",
            "                                                                 \n",
            " keras_layer (KerasLayer)    (None, None, None)        0         \n",
            "                                                                 \n",
            " keras_layer_1 (KerasLayer)  {'input_mask': (None, 3   0         \n",
            "                             2),                                 \n",
            "                              'input_word_ids': (Non             \n",
            "                             e, 32),                             \n",
            "                              'input_type_ids': (Non             \n",
            "                             e, 32)}                             \n",
            "                                                                 \n",
            "=================================================================\n",
            "Total params: 0 (0.00 Byte)\n",
            "Trainable params: 0 (0.00 Byte)\n",
            "Non-trainable params: 0 (0.00 Byte)\n",
            "_________________________________________________________________\n"
          ]
        }
      ],
      "source": [
        "preprocessor = hub.load(\"https://www.kaggle.com/models/tensorflow/bert/frameworks/TensorFlow2/variations/multi-cased-preprocess/versions/3\")\n",
        "\n",
        "text_inputs = [tf.keras.layers.Input(shape=(), dtype=tf.string)]\n",
        "tokenize = hub.KerasLayer(preprocessor.tokenize)\n",
        "tokenized_inputs = [tokenize(segment) for segment in text_inputs]\n",
        "\n",
        "seq_length = 32  # 선택\n",
        "bert_pack_inputs = hub.KerasLayer(\n",
        "    preprocessor.bert_pack_inputs,\n",
        "    arguments=dict(seq_length=seq_length))\n",
        "encoder_inputs = bert_pack_inputs(tokenized_inputs)\n",
        "\n",
        "preprocessed_text = tf.keras.Model(text_inputs, encoder_inputs)\n",
        "preprocessed_text.summary()"
      ]
    },
    {
      "cell_type": "code",
      "execution_count": null,
      "metadata": {
        "colab": {
          "base_uri": "https://localhost:8080/"
        },
        "id": "pVf8Wb6pmbEo",
        "outputId": "2a5084b2-bfac-4a29-ca09-513d104fd76a"
      },
      "outputs": [
        {
          "output_type": "stream",
          "name": "stdout",
          "text": [
            "뭐야 이 평점들은.... 나쁘진 않지만 10점 짜리는 더더욱 아니잖아\n"
          ]
        },
        {
          "output_type": "execute_result",
          "data": {
            "text/plain": [
              "{'input_mask': <tf.Tensor: shape=(1, 32), dtype=int32, numpy=\n",
              " array([[1, 1, 1, 1, 1, 1, 1, 1, 1, 1, 1, 1, 1, 1, 1, 1, 1, 1, 1, 1, 1, 1,\n",
              "         1, 1, 1, 0, 0, 0, 0, 0, 0, 0]], dtype=int32)>,\n",
              " 'input_word_ids': <tf.Tensor: shape=(1, 32), dtype=int32, numpy=\n",
              " array([[   101,   9303,  21711,   9638,   9926,  34907,  22879,    119,\n",
              "            119,    119,    119,   8982, 119022,  18623,   9523,  28578,\n",
              "          10150,  34907,   9715,  26344,   9074,  54141, 119168,    100,\n",
              "            102,      0,      0,      0,      0,      0,      0,      0]],\n",
              "       dtype=int32)>,\n",
              " 'input_type_ids': <tf.Tensor: shape=(1, 32), dtype=int32, numpy=\n",
              " array([[0, 0, 0, 0, 0, 0, 0, 0, 0, 0, 0, 0, 0, 0, 0, 0, 0, 0, 0, 0, 0, 0,\n",
              "         0, 0, 0, 0, 0, 0, 0, 0, 0, 0]], dtype=int32)>}"
            ]
          },
          "metadata": {},
          "execution_count": 8
        }
      ],
      "source": [
        "print(df_test['document'][2])\n",
        "preprocessed_text(tf.constant([df_test['document'][2]]))"
      ]
    },
    {
      "cell_type": "markdown",
      "metadata": {
        "id": "_RrjBXV0iofG"
      },
      "source": [
        "## 모델링"
      ]
    },
    {
      "cell_type": "code",
      "execution_count": null,
      "metadata": {
        "colab": {
          "base_uri": "https://localhost:8080/"
        },
        "id": "OKEy5k9Oipcw",
        "outputId": "912f3c5f-917b-4f37-f72c-5567c682f9a4"
      },
      "outputs": [
        {
          "output_type": "stream",
          "name": "stdout",
          "text": [
            "Model: \"model_1\"\n",
            "__________________________________________________________________________________________________\n",
            " Layer (type)                Output Shape                 Param #   Connected to                  \n",
            "==================================================================================================\n",
            " input_1 (InputLayer)        [(None,)]                    0         []                            \n",
            "                                                                                                  \n",
            " keras_layer (KerasLayer)    (None, None, None)           0         ['input_1[0][0]']             \n",
            "                                                                                                  \n",
            " keras_layer_1 (KerasLayer)  {'input_mask': (None, 32),   0         ['keras_layer[0][0]']         \n",
            "                              'input_word_ids': (None,                                            \n",
            "                             32),                                                                 \n",
            "                              'input_type_ids': (None,                                            \n",
            "                             32)}                                                                 \n",
            "                                                                                                  \n",
            " keras_layer_2 (KerasLayer)  {'sequence_output': (None,   1778534   ['keras_layer_1[0][0]',       \n",
            "                              32, 768),                   41         'keras_layer_1[0][1]',       \n",
            "                              'default': (None, 768),                'keras_layer_1[0][2]']       \n",
            "                              'encoder_outputs': [(None                                           \n",
            "                             , 32, 768),                                                          \n",
            "                              (None, 32, 768),                                                    \n",
            "                              (None, 32, 768),                                                    \n",
            "                              (None, 32, 768),                                                    \n",
            "                              (None, 32, 768),                                                    \n",
            "                              (None, 32, 768),                                                    \n",
            "                              (None, 32, 768),                                                    \n",
            "                              (None, 32, 768),                                                    \n",
            "                              (None, 32, 768),                                                    \n",
            "                              (None, 32, 768),                                                    \n",
            "                              (None, 32, 768),                                                    \n",
            "                              (None, 32, 768)],                                                   \n",
            "                              'pooled_output': (None, 7                                           \n",
            "                             68)}                                                                 \n",
            "                                                                                                  \n",
            " dense (Dense)               (None, 2)                    1538      ['keras_layer_2[0][13]']      \n",
            "                                                                                                  \n",
            "==================================================================================================\n",
            "Total params: 177854979 (678.46 MB)\n",
            "Trainable params: 177854978 (678.46 MB)\n",
            "Non-trainable params: 1 (1.00 Byte)\n",
            "__________________________________________________________________________________________________\n"
          ]
        }
      ],
      "source": [
        "model_url = \"https://tfhub.dev/tensorflow/bert_multi_cased_L-12_H-768_A-12/4\"\n",
        "\n",
        "encoder = hub.KerasLayer(model_url, trainable=True)\n",
        "outputs = encoder(encoder_inputs)\n",
        "pooled_output = outputs[\"pooled_output\"]\n",
        "output = tf.keras.layers.Dense(2, activation='softmax')(pooled_output)\n",
        "model = tf.keras.Model(text_inputs, output)\n",
        "model.summary()"
      ]
    },
    {
      "cell_type": "code",
      "execution_count": null,
      "metadata": {
        "id": "_CYv2VI0ohvN"
      },
      "outputs": [],
      "source": [
        "model.compile(optimizer=tf.optimizers.Adam(learning_rate=5e-5),\n",
        "              loss='sparse_categorical_crossentropy',\n",
        "              metrics='accuracy'\n",
        "              )"
      ]
    },
    {
      "cell_type": "code",
      "execution_count": null,
      "metadata": {
        "colab": {
          "base_uri": "https://localhost:8080/"
        },
        "id": "uEO2X3FzpImJ",
        "outputId": "f40e716d-8619-4248-ac77-66a5172afc7e"
      },
      "outputs": [
        {
          "output_type": "stream",
          "name": "stdout",
          "text": [
            "2344/2344 [==============================] - 1729s 721ms/step - loss: 0.4106 - accuracy: 0.8067 - val_loss: 0.3566 - val_accuracy: 0.8397\n"
          ]
        },
        {
          "output_type": "execute_result",
          "data": {
            "text/plain": [
              "<keras.src.callbacks.History at 0x783fbf918940>"
            ]
          },
          "metadata": {},
          "execution_count": 11
        }
      ],
      "source": [
        "model.fit(df_train['document'], df_train['label'],\n",
        "          validation_data=(df_test['document'], df_test['label']), epochs=1, batch_size=64)"
      ]
    },
    {
      "cell_type": "markdown",
      "source": [
        "## 실행\n"
      ],
      "metadata": {
        "id": "2FAfydMbzxcE"
      }
    },
    {
      "cell_type": "code",
      "source": [
        "import tensorflow_text as text\n",
        "\n",
        "import numpy as np\n",
        "import time\n",
        "\n",
        "import PIL.Image as Image\n",
        "import matplotlib.pylab as plt\n",
        "\n",
        "import tensorflow as tf\n",
        "import tensorflow_hub as hub\n",
        "\n",
        "import datetime\n",
        "from google.colab import drive\n",
        "\n",
        "import pandas as pd\n",
        "from tqdm import tqdm"
      ],
      "metadata": {
        "id": "159z5b1Cz5uY"
      },
      "execution_count": null,
      "outputs": []
    },
    {
      "cell_type": "code",
      "source": [
        "drive.mount('/content/drive')"
      ],
      "metadata": {
        "colab": {
          "base_uri": "https://localhost:8080/"
        },
        "id": "0VTrpg5CUWju",
        "outputId": "7090a8f7-081e-4c62-a530-415d62658bde"
      },
      "execution_count": null,
      "outputs": [
        {
          "output_type": "stream",
          "name": "stdout",
          "text": [
            "Drive already mounted at /content/drive; to attempt to forcibly remount, call drive.mount(\"/content/drive\", force_remount=True).\n"
          ]
        }
      ]
    },
    {
      "cell_type": "code",
      "source": [
        "# import joblib\n",
        "\n",
        "# ## 모델 저장할 때\n",
        "# joblib.dump(model, 'model.pkl')\n",
        "\n",
        "# ## 불러올 때\n",
        "# model2 = joblib.load(\"model.pkl\")\n",
        "\n",
        "\n",
        "\n",
        "# model.save('/content/drive/MyDrive/ML_TFT/model.pkl')"
      ],
      "metadata": {
        "id": "f7rzh4HXNM3J"
      },
      "execution_count": null,
      "outputs": []
    },
    {
      "cell_type": "code",
      "source": [
        "model2 = tf.saved_model.load('/content/drive/MyDrive/ML_TFT/model.pkl')"
      ],
      "metadata": {
        "id": "lacjNZKMSUes"
      },
      "execution_count": null,
      "outputs": []
    },
    {
      "cell_type": "code",
      "execution_count": null,
      "metadata": {
        "colab": {
          "base_uri": "https://localhost:8080/"
        },
        "id": "IXDjWX59xymv",
        "outputId": "025ee089-4d37-43a7-a4e7-541a1b6249a5"
      },
      "outputs": [
        {
          "output_type": "stream",
          "name": "stdout",
          "text": [
            "1/1 [==============================] - 0s 39ms/step\n"
          ]
        },
        {
          "output_type": "execute_result",
          "data": {
            "text/plain": [
              "array([[0.04866978, 0.9513302 ]], dtype=float32)"
            ]
          },
          "metadata": {},
          "execution_count": 45
        }
      ],
      "source": [
        "model.predict(['영화가 재미 있어요'])"
      ]
    },
    {
      "cell_type": "code",
      "source": [
        "model2(['영화가 재미 있어요'])"
      ],
      "metadata": {
        "colab": {
          "base_uri": "https://localhost:8080/"
        },
        "id": "_HQbZYzkNfy2",
        "outputId": "d25b05ef-286d-4cdb-a607-5d0c7f4f33c0"
      },
      "execution_count": null,
      "outputs": [
        {
          "output_type": "execute_result",
          "data": {
            "text/plain": [
              "<tf.Tensor: shape=(1, 2), dtype=float32, numpy=array([[0.04866978, 0.9513302 ]], dtype=float32)>"
            ]
          },
          "metadata": {},
          "execution_count": 4
        }
      ]
    },
    {
      "cell_type": "code",
      "execution_count": null,
      "metadata": {
        "colab": {
          "base_uri": "https://localhost:8080/"
        },
        "id": "ZSyk6VWpAqpR",
        "outputId": "fbc6aae9-0b35-42b9-cd28-2092ff1558bd"
      },
      "outputs": [
        {
          "output_type": "stream",
          "name": "stdout",
          "text": [
            "1/1 [==============================] - 0s 38ms/step\n"
          ]
        },
        {
          "output_type": "execute_result",
          "data": {
            "text/plain": [
              "array([[0.98152924, 0.01847081]], dtype=float32)"
            ]
          },
          "metadata": {},
          "execution_count": 20
        }
      ],
      "source": [
        "model.predict(['영화가 재미 없어요'])"
      ]
    },
    {
      "cell_type": "code",
      "source": [
        "tensor = model2(['영화가 재미 d없어요'])\n",
        "numpy_array = tensor.numpy()\n",
        "print(numpy_array)"
      ],
      "metadata": {
        "colab": {
          "base_uri": "https://localhost:8080/"
        },
        "id": "QiCbAaXWNhaM",
        "outputId": "a9d03a5b-7d65-4012-8f33-cc849d516129"
      },
      "execution_count": null,
      "outputs": [
        {
          "output_type": "stream",
          "name": "stdout",
          "text": [
            "[[0.96076334 0.03923673]]\n"
          ]
        }
      ]
    },
    {
      "cell_type": "code",
      "source": [
        "label = np.argmax(numpy_array, axis=1)[0]\n",
        "label\n"
      ],
      "metadata": {
        "colab": {
          "base_uri": "https://localhost:8080/"
        },
        "id": "6Ku9JvPUdOnf",
        "outputId": "1d9c6c86-3891-42ef-9df6-f31e4d4a7555"
      },
      "execution_count": null,
      "outputs": [
        {
          "output_type": "execute_result",
          "data": {
            "text/plain": [
              "0"
            ]
          },
          "metadata": {},
          "execution_count": 6
        }
      ]
    },
    {
      "cell_type": "code",
      "source": [
        "\n",
        "df = pd.read_csv('/content/drive/MyDrive/ML_TFT/Youtube_Comment.csv')\n",
        "df.head()"
      ],
      "metadata": {
        "colab": {
          "base_uri": "https://localhost:8080/",
          "height": 206
        },
        "id": "6_Pof4UQeCIO",
        "outputId": "7580edeb-9055-4c6c-f540-0ed659f4d430"
      },
      "execution_count": null,
      "outputs": [
        {
          "output_type": "execute_result",
          "data": {
            "text/plain": [
              "                                     TITLE_NM  \\\n",
              "0                   추천 꿀조합 후추치즈 열라면 #열라면 #순후추   \n",
              "1                   추천 꿀조합 후추치즈 열라면 #열라면 #순후추   \n",
              "2                   추천 꿀조합 후추치즈 열라면 #열라면 #순후추   \n",
              "3  [오뚜기 마열라면] 한입만 더!를 계속 외칠 수밖에 없던 마열라면의 매력❤️   \n",
              "4  [오뚜기 마열라면] 한입만 더!를 계속 외칠 수밖에 없던 마열라면의 매력❤️   \n",
              "\n",
              "                               CONTENT  \n",
              "0  열라면은 순두부랑도 어울리고 치즈랑도 어울리고 ㄹㅇ 만능라면이네  \n",
              "1         어으 나는 치즈가 라면국물에 섞이는 게 싫던데...  \n",
              "2            오늘 마열라면에 치즈 두장 넣어 먹었는데 크으  \n",
              "3               맛없으면 반역 맛있으면 혁명 아닙니까 !  \n",
              "4                입에 넣어준다는 대사가 저런 뜻이었구나  "
            ],
            "text/html": [
              "\n",
              "  <div id=\"df-0741e7a8-30c0-4cbf-b355-cf3ab6144863\" class=\"colab-df-container\">\n",
              "    <div>\n",
              "<style scoped>\n",
              "    .dataframe tbody tr th:only-of-type {\n",
              "        vertical-align: middle;\n",
              "    }\n",
              "\n",
              "    .dataframe tbody tr th {\n",
              "        vertical-align: top;\n",
              "    }\n",
              "\n",
              "    .dataframe thead th {\n",
              "        text-align: right;\n",
              "    }\n",
              "</style>\n",
              "<table border=\"1\" class=\"dataframe\">\n",
              "  <thead>\n",
              "    <tr style=\"text-align: right;\">\n",
              "      <th></th>\n",
              "      <th>TITLE_NM</th>\n",
              "      <th>CONTENT</th>\n",
              "    </tr>\n",
              "  </thead>\n",
              "  <tbody>\n",
              "    <tr>\n",
              "      <th>0</th>\n",
              "      <td>추천 꿀조합 후추치즈 열라면 #열라면 #순후추</td>\n",
              "      <td>열라면은 순두부랑도 어울리고 치즈랑도 어울리고 ㄹㅇ 만능라면이네</td>\n",
              "    </tr>\n",
              "    <tr>\n",
              "      <th>1</th>\n",
              "      <td>추천 꿀조합 후추치즈 열라면 #열라면 #순후추</td>\n",
              "      <td>어으 나는 치즈가 라면국물에 섞이는 게 싫던데...</td>\n",
              "    </tr>\n",
              "    <tr>\n",
              "      <th>2</th>\n",
              "      <td>추천 꿀조합 후추치즈 열라면 #열라면 #순후추</td>\n",
              "      <td>오늘 마열라면에 치즈 두장 넣어 먹었는데 크으</td>\n",
              "    </tr>\n",
              "    <tr>\n",
              "      <th>3</th>\n",
              "      <td>[오뚜기 마열라면] 한입만 더!를 계속 외칠 수밖에 없던 마열라면의 매력❤️</td>\n",
              "      <td>맛없으면 반역 맛있으면 혁명 아닙니까 !</td>\n",
              "    </tr>\n",
              "    <tr>\n",
              "      <th>4</th>\n",
              "      <td>[오뚜기 마열라면] 한입만 더!를 계속 외칠 수밖에 없던 마열라면의 매력❤️</td>\n",
              "      <td>입에 넣어준다는 대사가 저런 뜻이었구나</td>\n",
              "    </tr>\n",
              "  </tbody>\n",
              "</table>\n",
              "</div>\n",
              "    <div class=\"colab-df-buttons\">\n",
              "\n",
              "  <div class=\"colab-df-container\">\n",
              "    <button class=\"colab-df-convert\" onclick=\"convertToInteractive('df-0741e7a8-30c0-4cbf-b355-cf3ab6144863')\"\n",
              "            title=\"Convert this dataframe to an interactive table.\"\n",
              "            style=\"display:none;\">\n",
              "\n",
              "  <svg xmlns=\"http://www.w3.org/2000/svg\" height=\"24px\" viewBox=\"0 -960 960 960\">\n",
              "    <path d=\"M120-120v-720h720v720H120Zm60-500h600v-160H180v160Zm220 220h160v-160H400v160Zm0 220h160v-160H400v160ZM180-400h160v-160H180v160Zm440 0h160v-160H620v160ZM180-180h160v-160H180v160Zm440 0h160v-160H620v160Z\"/>\n",
              "  </svg>\n",
              "    </button>\n",
              "\n",
              "  <style>\n",
              "    .colab-df-container {\n",
              "      display:flex;\n",
              "      gap: 12px;\n",
              "    }\n",
              "\n",
              "    .colab-df-convert {\n",
              "      background-color: #E8F0FE;\n",
              "      border: none;\n",
              "      border-radius: 50%;\n",
              "      cursor: pointer;\n",
              "      display: none;\n",
              "      fill: #1967D2;\n",
              "      height: 32px;\n",
              "      padding: 0 0 0 0;\n",
              "      width: 32px;\n",
              "    }\n",
              "\n",
              "    .colab-df-convert:hover {\n",
              "      background-color: #E2EBFA;\n",
              "      box-shadow: 0px 1px 2px rgba(60, 64, 67, 0.3), 0px 1px 3px 1px rgba(60, 64, 67, 0.15);\n",
              "      fill: #174EA6;\n",
              "    }\n",
              "\n",
              "    .colab-df-buttons div {\n",
              "      margin-bottom: 4px;\n",
              "    }\n",
              "\n",
              "    [theme=dark] .colab-df-convert {\n",
              "      background-color: #3B4455;\n",
              "      fill: #D2E3FC;\n",
              "    }\n",
              "\n",
              "    [theme=dark] .colab-df-convert:hover {\n",
              "      background-color: #434B5C;\n",
              "      box-shadow: 0px 1px 3px 1px rgba(0, 0, 0, 0.15);\n",
              "      filter: drop-shadow(0px 1px 2px rgba(0, 0, 0, 0.3));\n",
              "      fill: #FFFFFF;\n",
              "    }\n",
              "  </style>\n",
              "\n",
              "    <script>\n",
              "      const buttonEl =\n",
              "        document.querySelector('#df-0741e7a8-30c0-4cbf-b355-cf3ab6144863 button.colab-df-convert');\n",
              "      buttonEl.style.display =\n",
              "        google.colab.kernel.accessAllowed ? 'block' : 'none';\n",
              "\n",
              "      async function convertToInteractive(key) {\n",
              "        const element = document.querySelector('#df-0741e7a8-30c0-4cbf-b355-cf3ab6144863');\n",
              "        const dataTable =\n",
              "          await google.colab.kernel.invokeFunction('convertToInteractive',\n",
              "                                                    [key], {});\n",
              "        if (!dataTable) return;\n",
              "\n",
              "        const docLinkHtml = 'Like what you see? Visit the ' +\n",
              "          '<a target=\"_blank\" href=https://colab.research.google.com/notebooks/data_table.ipynb>data table notebook</a>'\n",
              "          + ' to learn more about interactive tables.';\n",
              "        element.innerHTML = '';\n",
              "        dataTable['output_type'] = 'display_data';\n",
              "        await google.colab.output.renderOutput(dataTable, element);\n",
              "        const docLink = document.createElement('div');\n",
              "        docLink.innerHTML = docLinkHtml;\n",
              "        element.appendChild(docLink);\n",
              "      }\n",
              "    </script>\n",
              "  </div>\n",
              "\n",
              "\n",
              "<div id=\"df-0cdf328b-3459-49be-befa-1adee8c0d269\">\n",
              "  <button class=\"colab-df-quickchart\" onclick=\"quickchart('df-0cdf328b-3459-49be-befa-1adee8c0d269')\"\n",
              "            title=\"Suggest charts\"\n",
              "            style=\"display:none;\">\n",
              "\n",
              "<svg xmlns=\"http://www.w3.org/2000/svg\" height=\"24px\"viewBox=\"0 0 24 24\"\n",
              "     width=\"24px\">\n",
              "    <g>\n",
              "        <path d=\"M19 3H5c-1.1 0-2 .9-2 2v14c0 1.1.9 2 2 2h14c1.1 0 2-.9 2-2V5c0-1.1-.9-2-2-2zM9 17H7v-7h2v7zm4 0h-2V7h2v10zm4 0h-2v-4h2v4z\"/>\n",
              "    </g>\n",
              "</svg>\n",
              "  </button>\n",
              "\n",
              "<style>\n",
              "  .colab-df-quickchart {\n",
              "      --bg-color: #E8F0FE;\n",
              "      --fill-color: #1967D2;\n",
              "      --hover-bg-color: #E2EBFA;\n",
              "      --hover-fill-color: #174EA6;\n",
              "      --disabled-fill-color: #AAA;\n",
              "      --disabled-bg-color: #DDD;\n",
              "  }\n",
              "\n",
              "  [theme=dark] .colab-df-quickchart {\n",
              "      --bg-color: #3B4455;\n",
              "      --fill-color: #D2E3FC;\n",
              "      --hover-bg-color: #434B5C;\n",
              "      --hover-fill-color: #FFFFFF;\n",
              "      --disabled-bg-color: #3B4455;\n",
              "      --disabled-fill-color: #666;\n",
              "  }\n",
              "\n",
              "  .colab-df-quickchart {\n",
              "    background-color: var(--bg-color);\n",
              "    border: none;\n",
              "    border-radius: 50%;\n",
              "    cursor: pointer;\n",
              "    display: none;\n",
              "    fill: var(--fill-color);\n",
              "    height: 32px;\n",
              "    padding: 0;\n",
              "    width: 32px;\n",
              "  }\n",
              "\n",
              "  .colab-df-quickchart:hover {\n",
              "    background-color: var(--hover-bg-color);\n",
              "    box-shadow: 0 1px 2px rgba(60, 64, 67, 0.3), 0 1px 3px 1px rgba(60, 64, 67, 0.15);\n",
              "    fill: var(--button-hover-fill-color);\n",
              "  }\n",
              "\n",
              "  .colab-df-quickchart-complete:disabled,\n",
              "  .colab-df-quickchart-complete:disabled:hover {\n",
              "    background-color: var(--disabled-bg-color);\n",
              "    fill: var(--disabled-fill-color);\n",
              "    box-shadow: none;\n",
              "  }\n",
              "\n",
              "  .colab-df-spinner {\n",
              "    border: 2px solid var(--fill-color);\n",
              "    border-color: transparent;\n",
              "    border-bottom-color: var(--fill-color);\n",
              "    animation:\n",
              "      spin 1s steps(1) infinite;\n",
              "  }\n",
              "\n",
              "  @keyframes spin {\n",
              "    0% {\n",
              "      border-color: transparent;\n",
              "      border-bottom-color: var(--fill-color);\n",
              "      border-left-color: var(--fill-color);\n",
              "    }\n",
              "    20% {\n",
              "      border-color: transparent;\n",
              "      border-left-color: var(--fill-color);\n",
              "      border-top-color: var(--fill-color);\n",
              "    }\n",
              "    30% {\n",
              "      border-color: transparent;\n",
              "      border-left-color: var(--fill-color);\n",
              "      border-top-color: var(--fill-color);\n",
              "      border-right-color: var(--fill-color);\n",
              "    }\n",
              "    40% {\n",
              "      border-color: transparent;\n",
              "      border-right-color: var(--fill-color);\n",
              "      border-top-color: var(--fill-color);\n",
              "    }\n",
              "    60% {\n",
              "      border-color: transparent;\n",
              "      border-right-color: var(--fill-color);\n",
              "    }\n",
              "    80% {\n",
              "      border-color: transparent;\n",
              "      border-right-color: var(--fill-color);\n",
              "      border-bottom-color: var(--fill-color);\n",
              "    }\n",
              "    90% {\n",
              "      border-color: transparent;\n",
              "      border-bottom-color: var(--fill-color);\n",
              "    }\n",
              "  }\n",
              "</style>\n",
              "\n",
              "  <script>\n",
              "    async function quickchart(key) {\n",
              "      const quickchartButtonEl =\n",
              "        document.querySelector('#' + key + ' button');\n",
              "      quickchartButtonEl.disabled = true;  // To prevent multiple clicks.\n",
              "      quickchartButtonEl.classList.add('colab-df-spinner');\n",
              "      try {\n",
              "        const charts = await google.colab.kernel.invokeFunction(\n",
              "            'suggestCharts', [key], {});\n",
              "      } catch (error) {\n",
              "        console.error('Error during call to suggestCharts:', error);\n",
              "      }\n",
              "      quickchartButtonEl.classList.remove('colab-df-spinner');\n",
              "      quickchartButtonEl.classList.add('colab-df-quickchart-complete');\n",
              "    }\n",
              "    (() => {\n",
              "      let quickchartButtonEl =\n",
              "        document.querySelector('#df-0cdf328b-3459-49be-befa-1adee8c0d269 button');\n",
              "      quickchartButtonEl.style.display =\n",
              "        google.colab.kernel.accessAllowed ? 'block' : 'none';\n",
              "    })();\n",
              "  </script>\n",
              "</div>\n",
              "\n",
              "    </div>\n",
              "  </div>\n"
            ]
          },
          "metadata": {},
          "execution_count": 3
        }
      ]
    },
    {
      "cell_type": "code",
      "source": [
        "df.info()"
      ],
      "metadata": {
        "colab": {
          "base_uri": "https://localhost:8080/"
        },
        "id": "YoXvaf6S6Az9",
        "outputId": "fe49f87a-b325-4b02-afe0-7b2371669202"
      },
      "execution_count": null,
      "outputs": [
        {
          "output_type": "stream",
          "name": "stdout",
          "text": [
            "<class 'pandas.core.frame.DataFrame'>\n",
            "RangeIndex: 21725 entries, 0 to 21724\n",
            "Data columns (total 2 columns):\n",
            " #   Column    Non-Null Count  Dtype \n",
            "---  ------    --------------  ----- \n",
            " 0   TITLE_NM  21725 non-null  object\n",
            " 1   CONTENT   21652 non-null  object\n",
            "dtypes: object(2)\n",
            "memory usage: 339.6+ KB\n"
          ]
        }
      ]
    },
    {
      "cell_type": "code",
      "source": [
        "df.dropna(inplace=True)\n",
        "df.reset_index(drop=True, inplace=True)\n",
        "df.info()"
      ],
      "metadata": {
        "colab": {
          "base_uri": "https://localhost:8080/"
        },
        "id": "oTOio7ZO6HGm",
        "outputId": "63b775b6-62ea-400b-e41b-793a58f90c40"
      },
      "execution_count": null,
      "outputs": [
        {
          "output_type": "stream",
          "name": "stdout",
          "text": [
            "<class 'pandas.core.frame.DataFrame'>\n",
            "RangeIndex: 21652 entries, 0 to 21651\n",
            "Data columns (total 2 columns):\n",
            " #   Column    Non-Null Count  Dtype \n",
            "---  ------    --------------  ----- \n",
            " 0   TITLE_NM  21652 non-null  object\n",
            " 1   CONTENT   21652 non-null  object\n",
            "dtypes: object(2)\n",
            "memory usage: 338.4+ KB\n"
          ]
        }
      ]
    },
    {
      "cell_type": "code",
      "source": [
        "def get_label(content):\n",
        "    tensor = model2([content])\n",
        "    numpy_array = tensor.numpy()\n",
        "    return np.argmax(numpy_array, axis=1)[0]"
      ],
      "metadata": {
        "id": "p8Ah2L45e5f7"
      },
      "execution_count": null,
      "outputs": []
    },
    {
      "cell_type": "code",
      "source": [
        "import gc\n",
        "\n",
        "\n",
        "# 배치 크기\n",
        "batch_size = 128\n",
        "\n",
        "results = []\n",
        "\n",
        "for i in tqdm(range(0, len(df), batch_size)):\n",
        "\n",
        "    batch = df['CONTENT'][i:i+batch_size].tolist()\n",
        "    tensor = model2(batch)\n",
        "    numpy_array = tensor.numpy()\n",
        "\n",
        "    batch_results = np.argmax(numpy_array, axis=1).tolist()\n",
        "    results.extend(batch_results)\n",
        "\n",
        "    del batch, tensor, numpy_array, batch_results\n",
        "\n",
        "    # 가비지 컬렉터 실행\n",
        "    gc.collect()"
      ],
      "metadata": {
        "colab": {
          "base_uri": "https://localhost:8080/"
        },
        "id": "isl9CfbZeKCW",
        "outputId": "9156f14f-c371-4719-8c84-542c5c133ed2"
      },
      "execution_count": null,
      "outputs": [
        {
          "output_type": "stream",
          "name": "stderr",
          "text": [
            "100%|██████████| 170/170 [06:14<00:00,  2.20s/it]\n"
          ]
        }
      ]
    },
    {
      "cell_type": "code",
      "source": [
        "df['label'] = results"
      ],
      "metadata": {
        "id": "nzCySQJ9CeYC"
      },
      "execution_count": null,
      "outputs": []
    },
    {
      "cell_type": "code",
      "source": [
        "df.head(20)"
      ],
      "metadata": {
        "colab": {
          "base_uri": "https://localhost:8080/",
          "height": 677
        },
        "id": "FnQgNUuqeCFi",
        "outputId": "29bb215c-9de4-40b1-9cd2-3fc3dd9855ae"
      },
      "execution_count": null,
      "outputs": [
        {
          "output_type": "execute_result",
          "data": {
            "text/plain": [
              "                                           TITLE_NM  \\\n",
              "0                         추천 꿀조합 후추치즈 열라면 #열라면 #순후추   \n",
              "1                         추천 꿀조합 후추치즈 열라면 #열라면 #순후추   \n",
              "2                         추천 꿀조합 후추치즈 열라면 #열라면 #순후추   \n",
              "3        [오뚜기 마열라면] 한입만 더!를 계속 외칠 수밖에 없던 마열라면의 매력❤️   \n",
              "4        [오뚜기 마열라면] 한입만 더!를 계속 외칠 수밖에 없던 마열라면의 매력❤️   \n",
              "5        [오뚜기 마열라면] 한입만 더!를 계속 외칠 수밖에 없던 마열라면의 매력❤️   \n",
              "6                  [오뚜기 맛있는 눈꽃교자] 맛있는 눈꽃이~ 피었습니다❄️🥟   \n",
              "7                  [오뚜기 맛있는 눈꽃교자] 맛있는 눈꽃이~ 피었습니다❄️🥟   \n",
              "8                  [오뚜기 맛있는 눈꽃교자] 맛있는 눈꽃이~ 피었습니다❄️🥟   \n",
              "9                  [오뚜기 맛있는 눈꽃교자] 맛있는 눈꽃이~ 피었습니다❄️🥟   \n",
              "10                                오뚜기 데일리 - 토마토 진짬뽕   \n",
              "11                                오뚜기 데일리 - 토마토 진짬뽕   \n",
              "12        전세계에서 유일무이한 한국인의 반찬 문화! K푸드쇼 [반찬의 나라] 예고편   \n",
              "13        전세계에서 유일무이한 한국인의 반찬 문화! K푸드쇼 [반찬의 나라] 예고편   \n",
              "14        전세계에서 유일무이한 한국인의 반찬 문화! K푸드쇼 [반찬의 나라] 예고편   \n",
              "15        전세계에서 유일무이한 한국인의 반찬 문화! K푸드쇼 [반찬의 나라] 예고편   \n",
              "16        전세계에서 유일무이한 한국인의 반찬 문화! K푸드쇼 [반찬의 나라] 예고편   \n",
              "17        전세계에서 유일무이한 한국인의 반찬 문화! K푸드쇼 [반찬의 나라] 예고편   \n",
              "18                      오뚜기 데일리 - 방구석 응원 필승 메뉴 조합 🎉   \n",
              "19  [오뚜기 마열라면] 마지막까지 열정적으로!🔥 멈출 수 없는 깊~은 매운맛! 마열라면🍜   \n",
              "\n",
              "                                              CONTENT  label  \n",
              "0                 열라면은 순두부랑도 어울리고 치즈랑도 어울리고 ㄹㅇ 만능라면이네      1  \n",
              "1                        어으 나는 치즈가 라면국물에 섞이는 게 싫던데...      0  \n",
              "2                           오늘 마열라면에 치즈 두장 넣어 먹었는데 크으      1  \n",
              "3                              맛없으면 반역 맛있으면 혁명 아닙니까 !      1  \n",
              "4                               입에 넣어준다는 대사가 저런 뜻이었구나      0  \n",
              "5                                                 황두환      1  \n",
              "6   Oh! Deve ser uma delicia! Quero provar. Será q...      0  \n",
              "7                                        와우 김태희 참 이쁘다      1  \n",
              "8                                                  이자      0  \n",
              "9                                              오 맛있겠당      1  \n",
              "10           새로운 레시피네요. 맛도 정말 궁금한데 먹어보고 솔직한 후기올려볼께요^^      1  \n",
              "11      그냥 토마토라면도 맛있는데 해물베이스 국물에 두툼한 면발... 이건 말할것도 없다      0  \n",
              "12                        어떤사람 은 그 장소에있는것만으로도 활력이 넘치네      1  \n",
              "13  오뚜기 햇반에서 벌레가 나왔는데, \\n오뚜기 직원이 피드백 주기로 제품 다 수거 해...      0  \n",
              "14                    너무 좋은 프로에요 학교에서 학생들 다 보게하면 좋겠어요      1  \n",
              "15  뻔⊙안녕하세요오뚜기유튜브당사자님\\n일일사「에오뚜기이동님과함께모집배달소리가없는것처럼그...      0  \n",
              "16                                     kbs 의 힘... 다큐!      1  \n",
              "17                                            고맙습니다 😍      1  \n",
              "18                           좋아요. 오늘 축구 결승때 함 해먹어 보자❤      1  \n",
              "19                                          겁나 맛있게 먹네      1  "
            ],
            "text/html": [
              "\n",
              "  <div id=\"df-85f9dde8-cf8b-4dc3-90c8-03d4d954d041\" class=\"colab-df-container\">\n",
              "    <div>\n",
              "<style scoped>\n",
              "    .dataframe tbody tr th:only-of-type {\n",
              "        vertical-align: middle;\n",
              "    }\n",
              "\n",
              "    .dataframe tbody tr th {\n",
              "        vertical-align: top;\n",
              "    }\n",
              "\n",
              "    .dataframe thead th {\n",
              "        text-align: right;\n",
              "    }\n",
              "</style>\n",
              "<table border=\"1\" class=\"dataframe\">\n",
              "  <thead>\n",
              "    <tr style=\"text-align: right;\">\n",
              "      <th></th>\n",
              "      <th>TITLE_NM</th>\n",
              "      <th>CONTENT</th>\n",
              "      <th>label</th>\n",
              "    </tr>\n",
              "  </thead>\n",
              "  <tbody>\n",
              "    <tr>\n",
              "      <th>0</th>\n",
              "      <td>추천 꿀조합 후추치즈 열라면 #열라면 #순후추</td>\n",
              "      <td>열라면은 순두부랑도 어울리고 치즈랑도 어울리고 ㄹㅇ 만능라면이네</td>\n",
              "      <td>1</td>\n",
              "    </tr>\n",
              "    <tr>\n",
              "      <th>1</th>\n",
              "      <td>추천 꿀조합 후추치즈 열라면 #열라면 #순후추</td>\n",
              "      <td>어으 나는 치즈가 라면국물에 섞이는 게 싫던데...</td>\n",
              "      <td>0</td>\n",
              "    </tr>\n",
              "    <tr>\n",
              "      <th>2</th>\n",
              "      <td>추천 꿀조합 후추치즈 열라면 #열라면 #순후추</td>\n",
              "      <td>오늘 마열라면에 치즈 두장 넣어 먹었는데 크으</td>\n",
              "      <td>1</td>\n",
              "    </tr>\n",
              "    <tr>\n",
              "      <th>3</th>\n",
              "      <td>[오뚜기 마열라면] 한입만 더!를 계속 외칠 수밖에 없던 마열라면의 매력❤️</td>\n",
              "      <td>맛없으면 반역 맛있으면 혁명 아닙니까 !</td>\n",
              "      <td>1</td>\n",
              "    </tr>\n",
              "    <tr>\n",
              "      <th>4</th>\n",
              "      <td>[오뚜기 마열라면] 한입만 더!를 계속 외칠 수밖에 없던 마열라면의 매력❤️</td>\n",
              "      <td>입에 넣어준다는 대사가 저런 뜻이었구나</td>\n",
              "      <td>0</td>\n",
              "    </tr>\n",
              "    <tr>\n",
              "      <th>5</th>\n",
              "      <td>[오뚜기 마열라면] 한입만 더!를 계속 외칠 수밖에 없던 마열라면의 매력❤️</td>\n",
              "      <td>황두환</td>\n",
              "      <td>1</td>\n",
              "    </tr>\n",
              "    <tr>\n",
              "      <th>6</th>\n",
              "      <td>[오뚜기 맛있는 눈꽃교자] 맛있는 눈꽃이~ 피었습니다❄️🥟</td>\n",
              "      <td>Oh! Deve ser uma delicia! Quero provar. Será q...</td>\n",
              "      <td>0</td>\n",
              "    </tr>\n",
              "    <tr>\n",
              "      <th>7</th>\n",
              "      <td>[오뚜기 맛있는 눈꽃교자] 맛있는 눈꽃이~ 피었습니다❄️🥟</td>\n",
              "      <td>와우 김태희 참 이쁘다</td>\n",
              "      <td>1</td>\n",
              "    </tr>\n",
              "    <tr>\n",
              "      <th>8</th>\n",
              "      <td>[오뚜기 맛있는 눈꽃교자] 맛있는 눈꽃이~ 피었습니다❄️🥟</td>\n",
              "      <td>이자</td>\n",
              "      <td>0</td>\n",
              "    </tr>\n",
              "    <tr>\n",
              "      <th>9</th>\n",
              "      <td>[오뚜기 맛있는 눈꽃교자] 맛있는 눈꽃이~ 피었습니다❄️🥟</td>\n",
              "      <td>오 맛있겠당</td>\n",
              "      <td>1</td>\n",
              "    </tr>\n",
              "    <tr>\n",
              "      <th>10</th>\n",
              "      <td>오뚜기 데일리 - 토마토 진짬뽕</td>\n",
              "      <td>새로운 레시피네요. 맛도 정말 궁금한데 먹어보고 솔직한 후기올려볼께요^^</td>\n",
              "      <td>1</td>\n",
              "    </tr>\n",
              "    <tr>\n",
              "      <th>11</th>\n",
              "      <td>오뚜기 데일리 - 토마토 진짬뽕</td>\n",
              "      <td>그냥 토마토라면도 맛있는데 해물베이스 국물에 두툼한 면발... 이건 말할것도 없다</td>\n",
              "      <td>0</td>\n",
              "    </tr>\n",
              "    <tr>\n",
              "      <th>12</th>\n",
              "      <td>전세계에서 유일무이한 한국인의 반찬 문화! K푸드쇼 [반찬의 나라] 예고편</td>\n",
              "      <td>어떤사람 은 그 장소에있는것만으로도 활력이 넘치네</td>\n",
              "      <td>1</td>\n",
              "    </tr>\n",
              "    <tr>\n",
              "      <th>13</th>\n",
              "      <td>전세계에서 유일무이한 한국인의 반찬 문화! K푸드쇼 [반찬의 나라] 예고편</td>\n",
              "      <td>오뚜기 햇반에서 벌레가 나왔는데, \\n오뚜기 직원이 피드백 주기로 제품 다 수거 해...</td>\n",
              "      <td>0</td>\n",
              "    </tr>\n",
              "    <tr>\n",
              "      <th>14</th>\n",
              "      <td>전세계에서 유일무이한 한국인의 반찬 문화! K푸드쇼 [반찬의 나라] 예고편</td>\n",
              "      <td>너무 좋은 프로에요 학교에서 학생들 다 보게하면 좋겠어요</td>\n",
              "      <td>1</td>\n",
              "    </tr>\n",
              "    <tr>\n",
              "      <th>15</th>\n",
              "      <td>전세계에서 유일무이한 한국인의 반찬 문화! K푸드쇼 [반찬의 나라] 예고편</td>\n",
              "      <td>뻔⊙안녕하세요오뚜기유튜브당사자님\\n일일사「에오뚜기이동님과함께모집배달소리가없는것처럼그...</td>\n",
              "      <td>0</td>\n",
              "    </tr>\n",
              "    <tr>\n",
              "      <th>16</th>\n",
              "      <td>전세계에서 유일무이한 한국인의 반찬 문화! K푸드쇼 [반찬의 나라] 예고편</td>\n",
              "      <td>kbs 의 힘... 다큐!</td>\n",
              "      <td>1</td>\n",
              "    </tr>\n",
              "    <tr>\n",
              "      <th>17</th>\n",
              "      <td>전세계에서 유일무이한 한국인의 반찬 문화! K푸드쇼 [반찬의 나라] 예고편</td>\n",
              "      <td>고맙습니다 😍</td>\n",
              "      <td>1</td>\n",
              "    </tr>\n",
              "    <tr>\n",
              "      <th>18</th>\n",
              "      <td>오뚜기 데일리 - 방구석 응원 필승 메뉴 조합 🎉</td>\n",
              "      <td>좋아요. 오늘 축구 결승때 함 해먹어 보자❤</td>\n",
              "      <td>1</td>\n",
              "    </tr>\n",
              "    <tr>\n",
              "      <th>19</th>\n",
              "      <td>[오뚜기 마열라면] 마지막까지 열정적으로!🔥 멈출 수 없는 깊~은 매운맛! 마열라면🍜</td>\n",
              "      <td>겁나 맛있게 먹네</td>\n",
              "      <td>1</td>\n",
              "    </tr>\n",
              "  </tbody>\n",
              "</table>\n",
              "</div>\n",
              "    <div class=\"colab-df-buttons\">\n",
              "\n",
              "  <div class=\"colab-df-container\">\n",
              "    <button class=\"colab-df-convert\" onclick=\"convertToInteractive('df-85f9dde8-cf8b-4dc3-90c8-03d4d954d041')\"\n",
              "            title=\"Convert this dataframe to an interactive table.\"\n",
              "            style=\"display:none;\">\n",
              "\n",
              "  <svg xmlns=\"http://www.w3.org/2000/svg\" height=\"24px\" viewBox=\"0 -960 960 960\">\n",
              "    <path d=\"M120-120v-720h720v720H120Zm60-500h600v-160H180v160Zm220 220h160v-160H400v160Zm0 220h160v-160H400v160ZM180-400h160v-160H180v160Zm440 0h160v-160H620v160ZM180-180h160v-160H180v160Zm440 0h160v-160H620v160Z\"/>\n",
              "  </svg>\n",
              "    </button>\n",
              "\n",
              "  <style>\n",
              "    .colab-df-container {\n",
              "      display:flex;\n",
              "      gap: 12px;\n",
              "    }\n",
              "\n",
              "    .colab-df-convert {\n",
              "      background-color: #E8F0FE;\n",
              "      border: none;\n",
              "      border-radius: 50%;\n",
              "      cursor: pointer;\n",
              "      display: none;\n",
              "      fill: #1967D2;\n",
              "      height: 32px;\n",
              "      padding: 0 0 0 0;\n",
              "      width: 32px;\n",
              "    }\n",
              "\n",
              "    .colab-df-convert:hover {\n",
              "      background-color: #E2EBFA;\n",
              "      box-shadow: 0px 1px 2px rgba(60, 64, 67, 0.3), 0px 1px 3px 1px rgba(60, 64, 67, 0.15);\n",
              "      fill: #174EA6;\n",
              "    }\n",
              "\n",
              "    .colab-df-buttons div {\n",
              "      margin-bottom: 4px;\n",
              "    }\n",
              "\n",
              "    [theme=dark] .colab-df-convert {\n",
              "      background-color: #3B4455;\n",
              "      fill: #D2E3FC;\n",
              "    }\n",
              "\n",
              "    [theme=dark] .colab-df-convert:hover {\n",
              "      background-color: #434B5C;\n",
              "      box-shadow: 0px 1px 3px 1px rgba(0, 0, 0, 0.15);\n",
              "      filter: drop-shadow(0px 1px 2px rgba(0, 0, 0, 0.3));\n",
              "      fill: #FFFFFF;\n",
              "    }\n",
              "  </style>\n",
              "\n",
              "    <script>\n",
              "      const buttonEl =\n",
              "        document.querySelector('#df-85f9dde8-cf8b-4dc3-90c8-03d4d954d041 button.colab-df-convert');\n",
              "      buttonEl.style.display =\n",
              "        google.colab.kernel.accessAllowed ? 'block' : 'none';\n",
              "\n",
              "      async function convertToInteractive(key) {\n",
              "        const element = document.querySelector('#df-85f9dde8-cf8b-4dc3-90c8-03d4d954d041');\n",
              "        const dataTable =\n",
              "          await google.colab.kernel.invokeFunction('convertToInteractive',\n",
              "                                                    [key], {});\n",
              "        if (!dataTable) return;\n",
              "\n",
              "        const docLinkHtml = 'Like what you see? Visit the ' +\n",
              "          '<a target=\"_blank\" href=https://colab.research.google.com/notebooks/data_table.ipynb>data table notebook</a>'\n",
              "          + ' to learn more about interactive tables.';\n",
              "        element.innerHTML = '';\n",
              "        dataTable['output_type'] = 'display_data';\n",
              "        await google.colab.output.renderOutput(dataTable, element);\n",
              "        const docLink = document.createElement('div');\n",
              "        docLink.innerHTML = docLinkHtml;\n",
              "        element.appendChild(docLink);\n",
              "      }\n",
              "    </script>\n",
              "  </div>\n",
              "\n",
              "\n",
              "<div id=\"df-58f18732-4821-4531-bc2d-cea84d85679d\">\n",
              "  <button class=\"colab-df-quickchart\" onclick=\"quickchart('df-58f18732-4821-4531-bc2d-cea84d85679d')\"\n",
              "            title=\"Suggest charts\"\n",
              "            style=\"display:none;\">\n",
              "\n",
              "<svg xmlns=\"http://www.w3.org/2000/svg\" height=\"24px\"viewBox=\"0 0 24 24\"\n",
              "     width=\"24px\">\n",
              "    <g>\n",
              "        <path d=\"M19 3H5c-1.1 0-2 .9-2 2v14c0 1.1.9 2 2 2h14c1.1 0 2-.9 2-2V5c0-1.1-.9-2-2-2zM9 17H7v-7h2v7zm4 0h-2V7h2v10zm4 0h-2v-4h2v4z\"/>\n",
              "    </g>\n",
              "</svg>\n",
              "  </button>\n",
              "\n",
              "<style>\n",
              "  .colab-df-quickchart {\n",
              "      --bg-color: #E8F0FE;\n",
              "      --fill-color: #1967D2;\n",
              "      --hover-bg-color: #E2EBFA;\n",
              "      --hover-fill-color: #174EA6;\n",
              "      --disabled-fill-color: #AAA;\n",
              "      --disabled-bg-color: #DDD;\n",
              "  }\n",
              "\n",
              "  [theme=dark] .colab-df-quickchart {\n",
              "      --bg-color: #3B4455;\n",
              "      --fill-color: #D2E3FC;\n",
              "      --hover-bg-color: #434B5C;\n",
              "      --hover-fill-color: #FFFFFF;\n",
              "      --disabled-bg-color: #3B4455;\n",
              "      --disabled-fill-color: #666;\n",
              "  }\n",
              "\n",
              "  .colab-df-quickchart {\n",
              "    background-color: var(--bg-color);\n",
              "    border: none;\n",
              "    border-radius: 50%;\n",
              "    cursor: pointer;\n",
              "    display: none;\n",
              "    fill: var(--fill-color);\n",
              "    height: 32px;\n",
              "    padding: 0;\n",
              "    width: 32px;\n",
              "  }\n",
              "\n",
              "  .colab-df-quickchart:hover {\n",
              "    background-color: var(--hover-bg-color);\n",
              "    box-shadow: 0 1px 2px rgba(60, 64, 67, 0.3), 0 1px 3px 1px rgba(60, 64, 67, 0.15);\n",
              "    fill: var(--button-hover-fill-color);\n",
              "  }\n",
              "\n",
              "  .colab-df-quickchart-complete:disabled,\n",
              "  .colab-df-quickchart-complete:disabled:hover {\n",
              "    background-color: var(--disabled-bg-color);\n",
              "    fill: var(--disabled-fill-color);\n",
              "    box-shadow: none;\n",
              "  }\n",
              "\n",
              "  .colab-df-spinner {\n",
              "    border: 2px solid var(--fill-color);\n",
              "    border-color: transparent;\n",
              "    border-bottom-color: var(--fill-color);\n",
              "    animation:\n",
              "      spin 1s steps(1) infinite;\n",
              "  }\n",
              "\n",
              "  @keyframes spin {\n",
              "    0% {\n",
              "      border-color: transparent;\n",
              "      border-bottom-color: var(--fill-color);\n",
              "      border-left-color: var(--fill-color);\n",
              "    }\n",
              "    20% {\n",
              "      border-color: transparent;\n",
              "      border-left-color: var(--fill-color);\n",
              "      border-top-color: var(--fill-color);\n",
              "    }\n",
              "    30% {\n",
              "      border-color: transparent;\n",
              "      border-left-color: var(--fill-color);\n",
              "      border-top-color: var(--fill-color);\n",
              "      border-right-color: var(--fill-color);\n",
              "    }\n",
              "    40% {\n",
              "      border-color: transparent;\n",
              "      border-right-color: var(--fill-color);\n",
              "      border-top-color: var(--fill-color);\n",
              "    }\n",
              "    60% {\n",
              "      border-color: transparent;\n",
              "      border-right-color: var(--fill-color);\n",
              "    }\n",
              "    80% {\n",
              "      border-color: transparent;\n",
              "      border-right-color: var(--fill-color);\n",
              "      border-bottom-color: var(--fill-color);\n",
              "    }\n",
              "    90% {\n",
              "      border-color: transparent;\n",
              "      border-bottom-color: var(--fill-color);\n",
              "    }\n",
              "  }\n",
              "</style>\n",
              "\n",
              "  <script>\n",
              "    async function quickchart(key) {\n",
              "      const quickchartButtonEl =\n",
              "        document.querySelector('#' + key + ' button');\n",
              "      quickchartButtonEl.disabled = true;  // To prevent multiple clicks.\n",
              "      quickchartButtonEl.classList.add('colab-df-spinner');\n",
              "      try {\n",
              "        const charts = await google.colab.kernel.invokeFunction(\n",
              "            'suggestCharts', [key], {});\n",
              "      } catch (error) {\n",
              "        console.error('Error during call to suggestCharts:', error);\n",
              "      }\n",
              "      quickchartButtonEl.classList.remove('colab-df-spinner');\n",
              "      quickchartButtonEl.classList.add('colab-df-quickchart-complete');\n",
              "    }\n",
              "    (() => {\n",
              "      let quickchartButtonEl =\n",
              "        document.querySelector('#df-58f18732-4821-4531-bc2d-cea84d85679d button');\n",
              "      quickchartButtonEl.style.display =\n",
              "        google.colab.kernel.accessAllowed ? 'block' : 'none';\n",
              "    })();\n",
              "  </script>\n",
              "</div>\n",
              "\n",
              "    </div>\n",
              "  </div>\n"
            ]
          },
          "metadata": {},
          "execution_count": 9
        }
      ]
    },
    {
      "cell_type": "code",
      "source": [
        "df.to_csv(\"/content/drive/MyDrive/ML_TFT/labeled_df.csv\", index=False, encoding=\"utf-8-sig\")"
      ],
      "metadata": {
        "id": "-5_fTZvTeCBD"
      },
      "execution_count": null,
      "outputs": []
    },
    {
      "cell_type": "code",
      "execution_count": null,
      "metadata": {
        "id": "4t2JC0zaAxkW"
      },
      "outputs": [],
      "source": [
        "def run_bert_cls():\n",
        "    print('==================== BERT 문장 긍부정 예측 ====================')\n",
        "    while True:\n",
        "        sentence =input('문장을 입력해주세요: ')\n",
        "        if sentence == '0':\n",
        "            break\n",
        "        pred = model2([sentence])[0]\n",
        "        negative = pred[0] * 100\n",
        "        positive = pred[1] * 100\n",
        "        print('긍정일 확률: {:.2f}%'.format(positive))\n",
        "        print('부정일 확률: {:.2f}%'.format(negative))"
      ]
    },
    {
      "cell_type": "code",
      "execution_count": null,
      "metadata": {
        "id": "9JmYpaA3B9rb"
      },
      "outputs": [],
      "source": [
        "run_bert_cls()"
      ]
    }
  ],
  "metadata": {
    "accelerator": "GPU",
    "colab": {
      "provenance": [],
      "collapsed_sections": [
        "jOYzp9fUii2T",
        "BDgeEAiTik2R",
        "_RrjBXV0iofG"
      ]
    },
    "kernelspec": {
      "display_name": "Python 3",
      "name": "python3"
    },
    "language_info": {
      "codemirror_mode": {
        "name": "ipython",
        "version": 3
      },
      "file_extension": ".py",
      "mimetype": "text/x-python",
      "name": "python",
      "nbconvert_exporter": "python",
      "pygments_lexer": "ipython3",
      "version": "3.11.4"
    }
  },
  "nbformat": 4,
  "nbformat_minor": 0
}