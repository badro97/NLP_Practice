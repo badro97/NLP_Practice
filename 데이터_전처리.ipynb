{
  "nbformat": 4,
  "nbformat_minor": 0,
  "metadata": {
    "colab": {
      "private_outputs": true,
      "provenance": [],
      "include_colab_link": true
    },
    "kernelspec": {
      "name": "python3",
      "display_name": "Python 3"
    },
    "language_info": {
      "name": "python"
    }
  },
  "cells": [
    {
      "cell_type": "markdown",
      "metadata": {
        "id": "view-in-github",
        "colab_type": "text"
      },
      "source": [
        "<a href=\"https://colab.research.google.com/github/badro97/NLP_Practice/blob/main/%EB%8D%B0%EC%9D%B4%ED%84%B0_%EC%A0%84%EC%B2%98%EB%A6%AC.ipynb\" target=\"_parent\"><img src=\"https://colab.research.google.com/assets/colab-badge.svg\" alt=\"Open In Colab\"/></a>"
      ]
    },
    {
      "cell_type": "code",
      "execution_count": null,
      "metadata": {
        "id": "mhHwVzjHlZeK"
      },
      "outputs": [],
      "source": [
        "from google.colab import drive\n",
        "drive.mount('/content/gdrive', force_remount=True)"
      ]
    },
    {
      "cell_type": "code",
      "source": [
        "!pip install konlpy"
      ],
      "metadata": {
        "id": "2pZK9Ov2D0l1"
      },
      "execution_count": null,
      "outputs": []
    },
    {
      "cell_type": "code",
      "source": [
        "!pip install soykeyword"
      ],
      "metadata": {
        "id": "FHFEsvGDFzoL"
      },
      "execution_count": null,
      "outputs": []
    },
    {
      "cell_type": "code",
      "source": [
        "import pandas as pd\n",
        "import numpy as np\n",
        "from sklearn.metrics.pairwise import cosine_similarity\n",
        "from sklearn.feature_extraction.text import CountVectorizer\n",
        "from konlpy.tag import Okt\n",
        "from tqdm import tqdm\n",
        "import re\n",
        "from soykeyword.proportion import CorpusbasedKeywordExtractor"
      ],
      "metadata": {
        "id": "Yc3xyTUrlxPQ"
      },
      "execution_count": null,
      "outputs": []
    },
    {
      "cell_type": "code",
      "source": [
        "df = pd.read_excel('/content/gdrive/MyDrive/싼데비스탄/비버웍스_샘플데이터_open.xlsx', sheet_name=None)\n",
        "dirty = pd.read_excel('/content/gdrive/MyDrive/싼데비스탄/해커톤참고자료(dirty).xlsx')"
      ],
      "metadata": {
        "id": "KywSnJolmGeY"
      },
      "execution_count": null,
      "outputs": []
    },
    {
      "cell_type": "code",
      "source": [
        "orderQueen = df['오더퀸']\n",
        "unos = df['우노스']"
      ],
      "metadata": {
        "id": "4Az_CA1ym3_-"
      },
      "execution_count": null,
      "outputs": []
    },
    {
      "cell_type": "markdown",
      "source": [
        "# 전처리\n",
        "### 모든 데이터에 적용 가능해야 함\n",
        "- 동일한 데이터프레임 Form으로 변경\n",
        "- 취사선택 기능 (제거할 특수문자 입력)\n",
        "- 동일한 기준 설정 (영어, 단위 제거)\n",
        "- 오탈자 교정 (자모 단위)\n",
        "- 띄어쓰기 교정 (soynlp - soyspacing)\n"
      ],
      "metadata": {
        "id": "eQyVdv4xqjk_"
      }
    },
    {
      "cell_type": "markdown",
      "source": [
        "\n",
        "**1/16 아이디어**\n",
        "\n",
        "doc2vec or word2vec kmeans(elbow method)가 줄어들때 까지\n",
        "\n",
        "태그로 뽑은 단어 제목에 추가(빈도 수 기준(뒷 단어 기준))\n",
        "\n",
        "스캐터플롯으로 밀집도 변화 관찰\n",
        "\n",
        "마지막에 메뉴명 최종 전처리(자모 교정, 토큰화, pororo, 외래어 표기법)"
      ],
      "metadata": {
        "id": "bfagWrEtPUaJ"
      }
    },
    {
      "cell_type": "code",
      "source": [
        "## 데이터프레임 form 통일\n",
        "def form(df, brand, title, category=''):\n",
        "  data = pd.DataFrame()\n",
        "  data['brand'] = df[brand]\n",
        "  data['title'] = df[title]\n",
        "  data['category'] = df[category] if category else np.nan\n",
        "  return data"
      ],
      "metadata": {
        "id": "6NhviMY0AnI4"
      },
      "execution_count": null,
      "outputs": []
    },
    {
      "cell_type": "code",
      "source": [
        "o = form(orderQueen, '브랜드명', 'MENU_FULL_NM')\n",
        "u = form(unos, '매장명', '메뉴명', '카테고리명')\n",
        "d = form(dirty, '상점명', '상품명', '카테고리명')\n",
        "\n",
        "df_list = [o, u, d]\n",
        "df = pd.concat(df_list, ignore_index=True)\n",
        "df"
      ],
      "metadata": {
        "id": "4eneKiaxBU8Y"
      },
      "execution_count": null,
      "outputs": []
    },
    {
      "cell_type": "code",
      "source": [
        "df[df['category'].isnull()]['category'].unique()"
      ],
      "metadata": {
        "id": "FVrVkWwl2AZQ"
      },
      "execution_count": null,
      "outputs": []
    },
    {
      "cell_type": "code",
      "source": [
        "df['category'].unique()"
      ],
      "metadata": {
        "id": "lA6xJDPxfSce"
      },
      "execution_count": null,
      "outputs": []
    },
    {
      "cell_type": "code",
      "source": [
        "df.columns"
      ],
      "metadata": {
        "id": "4XjbcJOv8Wmn"
      },
      "execution_count": null,
      "outputs": []
    },
    {
      "cell_type": "code",
      "source": [
        "## 토큰들 문자열로 결합\n",
        "def tokenToString(token_list):\n",
        "    res = []\n",
        "    for token in token_list:\n",
        "      s = ' '.join(token)\n",
        "      res.append(s)\n",
        "    return res"
      ],
      "metadata": {
        "id": "MEhD2wKJzAt6"
      },
      "execution_count": null,
      "outputs": []
    },
    {
      "cell_type": "code",
      "source": [
        "## []안에 문자가 있다? (브랜드명), ()안에 한글이 있다? or 숫자뒤에 한글/영어가 온다? (단위)\n",
        "pat = re.compile(\"\\[[^)]*\\]|\\([가-힣]\\)|[0-9]+[a-zA-Z가-힣]*\") \n",
        "## 특수문자 제외\n",
        "sp = re.compile(\"[^가-힣a-zA-Z\\s]\")\n",
        "\n",
        "## 지우는 전처리\n",
        "def remove_eda(df, col):\n",
        "  token_list = []\n",
        "  for t in tqdm(df[col]):\n",
        "    if t:\n",
        "      t1 = pat.sub(\"\", str(t))\n",
        "      text = sp.sub(\" \", t1).lower()\n",
        "      res = text.split()\n",
        "      token_list.append(res)\n",
        "    else:\n",
        "      token_list.append(t)\n",
        "  result = tokenToString(token_list)\n",
        "  df[col] = result\n",
        "  return df"
      ],
      "metadata": {
        "id": "hp_XBRAP74j1"
      },
      "execution_count": null,
      "outputs": []
    },
    {
      "cell_type": "code",
      "source": [
        "# ## 지우는 전처리\n",
        "# def remove_eda(df, col):\n",
        "#   token_list = remove_special(df, col)\n",
        "#   tok = []\n",
        "#   for text in tqdm(token_list):\n",
        "#     li = []\n",
        "#     for i in text:\n",
        "#       if any(temp.isdigit() for temp in i) == False: # 숫자와 붙어서 단어로 묶인 것들은 포함하지 않는다.\n",
        "#         li.append(i)\n",
        "#     tok.append(li)\n",
        "#   result = tokenToString(tok)\n",
        "#   df[col] = result\n",
        "#   return df"
      ],
      "metadata": {
        "id": "V7yCao-l1w-f"
      },
      "execution_count": null,
      "outputs": []
    },
    {
      "cell_type": "code",
      "source": [
        "for col in df.columns:\n",
        "  df2 = remove_eda(df, col)"
      ],
      "metadata": {
        "id": "YEyqeAbb326R"
      },
      "execution_count": null,
      "outputs": []
    },
    {
      "cell_type": "code",
      "source": [
        "df2"
      ],
      "metadata": {
        "id": "H4Njg8k7931b"
      },
      "execution_count": null,
      "outputs": []
    },
    {
      "cell_type": "code",
      "source": [
        "df2['category'].unique()"
      ],
      "metadata": {
        "id": "Uow47joK7YBB"
      },
      "execution_count": null,
      "outputs": []
    },
    {
      "cell_type": "code",
      "source": [
        "# 카테고리명split 한 값이 두개이상 영어가 섞여있다면 한글 선택\n",
        "# 두개 이상이고 모두 한글이라면 메뉴와 가장 가까운 값 선택 (pororo 제로샷 분류)\n",
        "# 모두 영어일 경우 따로 모아서 수동으로 변경\n"
      ],
      "metadata": {
        "id": "6dxCyKxnS9mO"
      },
      "execution_count": null,
      "outputs": []
    },
    {
      "cell_type": "code",
      "source": [
        "df2.info()"
      ],
      "metadata": {
        "id": "d9E9QZhASGqc"
      },
      "execution_count": null,
      "outputs": []
    },
    {
      "cell_type": "code",
      "source": [],
      "metadata": {
        "id": "tVbmmEEA8YNM"
      },
      "execution_count": null,
      "outputs": []
    },
    {
      "cell_type": "code",
      "source": [],
      "metadata": {
        "id": "CrAGoXob8YLQ"
      },
      "execution_count": null,
      "outputs": []
    },
    {
      "cell_type": "code",
      "source": [],
      "metadata": {
        "id": "q1J5VUu_8YIl"
      },
      "execution_count": null,
      "outputs": []
    },
    {
      "cell_type": "code",
      "source": [
        "## 키워드 뽑기 (빈도수)\n",
        "from soykeyword.proportion import CorpusbasedKeywordExtractor\n",
        "corpusbased_extractor = CorpusbasedKeywordExtractor(\n",
        "    min_tf=2,\n",
        "    min_df=1,\n",
        "    tokenize=lambda x:x.strip().split(),\n",
        "    verbose=True\n",
        ")\n",
        "\n",
        "# docs: list of str like\n",
        "corpusbased_extractor.train(df2['title'])"
      ],
      "metadata": {
        "id": "eD5Di0fQGQd_"
      },
      "execution_count": null,
      "outputs": []
    },
    {
      "cell_type": "code",
      "source": [
        "keywords = corpusbased_extractor.extract_from_word(\n",
        "    '카모마일',\n",
        "    min_score=0.5,\n",
        "    min_frequency=0\n",
        ")"
      ],
      "metadata": {
        "id": "awSotT4_HGDq"
      },
      "execution_count": null,
      "outputs": []
    },
    {
      "cell_type": "code",
      "source": [
        "keywords"
      ],
      "metadata": {
        "id": "0CljgjXWHK6E"
      },
      "execution_count": null,
      "outputs": []
    },
    {
      "cell_type": "code",
      "source": [],
      "metadata": {
        "id": "1nH3O-d78dhy"
      },
      "execution_count": null,
      "outputs": []
    },
    {
      "cell_type": "code",
      "source": [],
      "metadata": {
        "id": "Gc-wqIRi8dfe"
      },
      "execution_count": null,
      "outputs": []
    },
    {
      "cell_type": "markdown",
      "source": [
        "## OrderQueen"
      ],
      "metadata": {
        "id": "gfSAZYWzogzc"
      }
    },
    {
      "cell_type": "code",
      "source": [
        "orderQueen.info()"
      ],
      "metadata": {
        "id": "Oa5fvkWuol8Y"
      },
      "execution_count": null,
      "outputs": []
    },
    {
      "cell_type": "code",
      "source": [
        "orderQueen.duplicated().sum()"
      ],
      "metadata": {
        "id": "B_Q8MihmpuXG"
      },
      "execution_count": null,
      "outputs": []
    },
    {
      "cell_type": "code",
      "source": [
        "orderQueen.head()"
      ],
      "metadata": {
        "id": "DBoUvD_vo8lc"
      },
      "execution_count": null,
      "outputs": []
    },
    {
      "cell_type": "code",
      "source": [
        "orderQueen.tail()"
      ],
      "metadata": {
        "id": "H0zBBmWno-vN"
      },
      "execution_count": null,
      "outputs": []
    },
    {
      "cell_type": "code",
      "source": [],
      "metadata": {
        "id": "RYvVZoc1o-ib"
      },
      "execution_count": null,
      "outputs": []
    },
    {
      "cell_type": "code",
      "source": [],
      "metadata": {
        "id": "diV8fA4Eo-f3"
      },
      "execution_count": null,
      "outputs": []
    },
    {
      "cell_type": "markdown",
      "source": [
        "# Unos"
      ],
      "metadata": {
        "id": "LP_4aTeTotXr"
      }
    },
    {
      "cell_type": "code",
      "source": [
        "unos.info()"
      ],
      "metadata": {
        "id": "HNbkFfAxouqP"
      },
      "execution_count": null,
      "outputs": []
    },
    {
      "cell_type": "code",
      "source": [
        "unos[unos['카테고리명'].isnull()]"
      ],
      "metadata": {
        "id": "mT5uPfa-oxBB"
      },
      "execution_count": null,
      "outputs": []
    },
    {
      "cell_type": "code",
      "source": [
        "unos['메뉴코드'].duplicated().sum()"
      ],
      "metadata": {
        "id": "PMjsHpBCoycU"
      },
      "execution_count": null,
      "outputs": []
    },
    {
      "cell_type": "code",
      "source": [
        "unos.head()"
      ],
      "metadata": {
        "id": "R9cOeOE1o1hI"
      },
      "execution_count": null,
      "outputs": []
    },
    {
      "cell_type": "code",
      "source": [
        "unos.tail()"
      ],
      "metadata": {
        "id": "pnIaUWBBqATt"
      },
      "execution_count": null,
      "outputs": []
    },
    {
      "cell_type": "code",
      "source": [],
      "metadata": {
        "id": "RhUZyYs-qBjT"
      },
      "execution_count": null,
      "outputs": []
    },
    {
      "cell_type": "code",
      "source": [],
      "metadata": {
        "id": "m7UVzJUEqh-u"
      },
      "execution_count": null,
      "outputs": []
    },
    {
      "cell_type": "markdown",
      "source": [
        "# Dirty Sample"
      ],
      "metadata": {
        "id": "dq6U2NsKqYHc"
      }
    },
    {
      "cell_type": "code",
      "source": [
        "dirty.info()"
      ],
      "metadata": {
        "id": "kIKt0gR-qbGl"
      },
      "execution_count": null,
      "outputs": []
    },
    {
      "cell_type": "code",
      "source": [
        "dirty"
      ],
      "metadata": {
        "id": "gWlDkmvnqdRX"
      },
      "execution_count": null,
      "outputs": []
    }
  ]
}