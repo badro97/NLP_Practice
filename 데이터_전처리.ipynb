{
  "cells": [
    {
      "cell_type": "markdown",
      "metadata": {
        "id": "view-in-github",
        "colab_type": "text"
      },
      "source": [
        "<a href=\"https://colab.research.google.com/github/badro97/NLP_Practice/blob/main/%EB%8D%B0%EC%9D%B4%ED%84%B0_%EC%A0%84%EC%B2%98%EB%A6%AC.ipynb\" target=\"_parent\"><img src=\"https://colab.research.google.com/assets/colab-badge.svg\" alt=\"Open In Colab\"/></a>"
      ]
    },
    {
      "cell_type": "code",
      "execution_count": null,
      "metadata": {
        "id": "mhHwVzjHlZeK"
      },
      "outputs": [],
      "source": [
        "from google.colab import drive\n",
        "drive.mount('/content/gdrive', force_remount=True)"
      ]
    },
    {
      "cell_type": "code",
      "execution_count": null,
      "metadata": {
        "id": "2pZK9Ov2D0l1"
      },
      "outputs": [],
      "source": [
        "!pip install konlpy"
      ]
    },
    {
      "cell_type": "code",
      "execution_count": null,
      "metadata": {
        "id": "FHFEsvGDFzoL"
      },
      "outputs": [],
      "source": [
        "!pip install soykeyword"
      ]
    },
    {
      "cell_type": "code",
      "execution_count": null,
      "metadata": {
        "id": "Yc3xyTUrlxPQ"
      },
      "outputs": [],
      "source": [
        "import pandas as pd\n",
        "import numpy as np\n",
        "from sklearn.metrics.pairwise import cosine_similarity\n",
        "from sklearn.feature_extraction.text import CountVectorizer\n",
        "from konlpy.tag import Okt\n",
        "from tqdm import tqdm\n",
        "import re\n",
        "from soykeyword.proportion import CorpusbasedKeywordExtractor"
      ]
    },
    {
      "cell_type": "code",
      "execution_count": null,
      "metadata": {
        "id": "KywSnJolmGeY"
      },
      "outputs": [],
      "source": [
        "df = pd.read_excel('/content/gdrive/MyDrive/싼데비스탄/비버웍스_샘플데이터_open.xlsx', sheet_name=None)\n",
        "dirty = pd.read_excel('/content/gdrive/MyDrive/싼데비스탄/해커톤참고자료(dirty).xlsx')"
      ]
    },
    {
      "cell_type": "code",
      "execution_count": null,
      "metadata": {
        "id": "KujFj8o_3Ao3"
      },
      "outputs": [],
      "source": [
        "# local\n",
        "df = pd.read_excel('/Users/badro97/NLP/NLP_Practice/비버웍스_샘플데이터_open.xlsx', sheet_name=None)\n",
        "dirty = pd.read_excel('/Users/badro97/NLP/NLP_Practice/해커톤참고자료(dirty).xlsx')"
      ]
    },
    {
      "cell_type": "code",
      "execution_count": null,
      "metadata": {
        "id": "4Az_CA1ym3_-"
      },
      "outputs": [],
      "source": [
        "orderQueen = df['오더퀸']\n",
        "unos = df['우노스']"
      ]
    },
    {
      "cell_type": "markdown",
      "metadata": {
        "id": "eQyVdv4xqjk_"
      },
      "source": [
        "# 전처리\n",
        "### 모든 데이터에 적용 가능해야 함\n",
        "- 동일한 데이터프레임 Form으로 변경\n",
        "- 취사선택 기능 (제거할 특수문자 입력)\n",
        "- 동일한 기준 설정 (영어, 단위 제거)\n",
        "- 오탈자 교정 (자모 단위)\n",
        "- 띄어쓰기 교정 (soynlp - soyspacing)\n"
      ]
    },
    {
      "cell_type": "markdown",
      "metadata": {
        "id": "bfagWrEtPUaJ"
      },
      "source": [
        "\n",
        "**1/16 아이디어**\n",
        "\n",
        "doc2vec or word2vec kmeans(elbow method)가 줄어들때 까지\n",
        "\n",
        "태그로 뽑은 단어 제목에 추가(빈도 수 기준(뒷 단어 기준))\n",
        "\n",
        "스캐터플롯으로 밀집도 변화 관찰\n",
        "\n",
        "마지막에 메뉴명 최종 전처리(자모 교정, 토큰화, pororo, 외래어 표기법)"
      ]
    },
    {
      "cell_type": "code",
      "execution_count": null,
      "metadata": {
        "id": "6NhviMY0AnI4"
      },
      "outputs": [],
      "source": [
        "## 데이터프레임 form 통일\n",
        "def form(df, brand, title, category=''):\n",
        "  data = pd.DataFrame()\n",
        "  data['brand'] = df[brand]\n",
        "  data['title'] = df[title]\n",
        "  data['category'] = df[category] if category else np.nan\n",
        "  return data"
      ]
    },
    {
      "cell_type": "code",
      "execution_count": null,
      "metadata": {
        "id": "4eneKiaxBU8Y"
      },
      "outputs": [],
      "source": [
        "o = form(orderQueen, '브랜드명', 'MENU_FULL_NM')\n",
        "u = form(unos, '매장명', '메뉴명', '카테고리명')\n",
        "d = form(dirty, '상점명', '상품명', '카테고리명')\n",
        "\n",
        "df_list = [o, u, d]\n",
        "df = pd.concat(df_list, ignore_index=True)\n",
        "df"
      ]
    },
    {
      "cell_type": "code",
      "execution_count": null,
      "metadata": {
        "id": "FVrVkWwl2AZQ"
      },
      "outputs": [],
      "source": [
        "df[df['category'].isnull()]"
      ]
    },
    {
      "cell_type": "code",
      "execution_count": null,
      "metadata": {
        "id": "lA6xJDPxfSce"
      },
      "outputs": [],
      "source": [
        "df['category'].unique()"
      ]
    },
    {
      "cell_type": "code",
      "execution_count": null,
      "metadata": {
        "id": "4XjbcJOv8Wmn"
      },
      "outputs": [],
      "source": [
        "df.columns"
      ]
    },
    {
      "cell_type": "code",
      "execution_count": null,
      "metadata": {
        "id": "MEhD2wKJzAt6"
      },
      "outputs": [],
      "source": [
        "## 토큰들 문자열로 결합\n",
        "def tokenToString(token_list):\n",
        "    res = []\n",
        "    for token in token_list:\n",
        "      s = ' '.join(token)\n",
        "      res.append(s)\n",
        "    return res"
      ]
    },
    {
      "cell_type": "code",
      "execution_count": null,
      "metadata": {
        "id": "hp_XBRAP74j1"
      },
      "outputs": [],
      "source": [
        "## []안에 문자가 있다? (브랜드명), ()안에 한글이 있다? or 숫자뒤에 한글/영어가 온다? (단위)\n",
        "pat = re.compile(\"\\[[^)]*\\]|\\([가-힣]\\)|[0-9]+[a-zA-Z가-힣]*\") \n",
        "## 특수문자 제외\n",
        "sp = re.compile(\"[^가-힣a-zA-Z\\s]\")\n",
        "\n",
        "## 지우는 전처리\n",
        "def remove_eda(df, col):\n",
        "  token_list = []\n",
        "  for t in tqdm(df[col]):\n",
        "    if t:\n",
        "      t1 = pat.sub(\"\", str(t))\n",
        "      text = sp.sub(\" \", t1).lower()\n",
        "      res = text.split()\n",
        "      token_list.append(res)\n",
        "    else:\n",
        "      token_list.append(t)\n",
        "  result = tokenToString(token_list)\n",
        "  df[col] = result\n",
        "  return df"
      ]
    },
    {
      "cell_type": "code",
      "execution_count": null,
      "metadata": {
        "id": "YEyqeAbb326R"
      },
      "outputs": [],
      "source": [
        "for col in df.columns:\n",
        "  df2 = remove_eda(df, col)"
      ]
    },
    {
      "cell_type": "code",
      "execution_count": null,
      "metadata": {
        "id": "H4Njg8k7931b"
      },
      "outputs": [],
      "source": [
        "df2"
      ]
    },
    {
      "cell_type": "code",
      "source": [
        "df2['brand'].unique()"
      ],
      "metadata": {
        "id": "vN4wnVceDnQH"
      },
      "execution_count": null,
      "outputs": []
    },
    {
      "cell_type": "code",
      "execution_count": null,
      "metadata": {
        "id": "Uow47joK7YBB"
      },
      "outputs": [],
      "source": [
        "df2['category'].unique()"
      ]
    },
    {
      "cell_type": "code",
      "source": [
        "data = df2.copy()"
      ],
      "metadata": {
        "id": "PzHMDnan3L-y"
      },
      "execution_count": null,
      "outputs": []
    },
    {
      "cell_type": "code",
      "source": [
        "## 카테고리명split 한 값이 두 개 이상이고 영어가 섞여있다면 한글을 선택\n",
        "\n",
        "def E_or_K(input):\n",
        "  k = 0\n",
        "  e = 0\n",
        "  for c in input:\n",
        "    if ord('가') <= ord(c) <= ord('힣'):\n",
        "      k+=1\n",
        "    elif ord('a') <= ord(c.lower()) <= ord('z'):\n",
        "      e+=1\n",
        "    return \"korean\" if k > e else \"english\"\n",
        "\n",
        "cats = []\n",
        "for cat in data['category']:\n",
        "  l = cat.split()\n",
        "  if len(l) >= 2:\n",
        "    for text in l:\n",
        "      ke = E_or_K(text)\n",
        "      if ke == 'english':\n",
        "        l.remove(text)\n",
        "  s = ' '.join(l)\n",
        "  cats.append(s)\n",
        "\n",
        "data['category'] = cats"
      ],
      "metadata": {
        "id": "1smZq-Z94EuT"
      },
      "execution_count": null,
      "outputs": []
    },
    {
      "cell_type": "code",
      "source": [
        "## 브랜드명 지점위치 제거\n",
        "\n",
        "brands = []\n",
        "for brand in data['brand']:\n",
        "  b = brand.split()\n",
        "  brands.append(b[0])\n",
        "\n",
        "data['brand'] = brands"
      ],
      "metadata": {
        "id": "eezcYjZC3Yd0"
      },
      "execution_count": null,
      "outputs": []
    },
    {
      "cell_type": "code",
      "execution_count": null,
      "metadata": {
        "id": "CrAGoXob8YLQ"
      },
      "outputs": [],
      "source": [
        "data['brand'].unique()"
      ]
    },
    {
      "cell_type": "code",
      "source": [
        "data['category'].unique()"
      ],
      "metadata": {
        "id": "GLG5r5w13YTY"
      },
      "execution_count": null,
      "outputs": []
    },
    {
      "cell_type": "markdown",
      "source": [
        "## 카테고리는 메뉴와 가장 가까운 값으로 선택\n",
        "\n",
        "pororo 제로샷 분류"
      ],
      "metadata": {
        "id": "DJg2YGcRDR57"
      }
    },
    {
      "cell_type": "code",
      "source": [
        "!pip install --upgrade pip\n",
        "!git clone https://github.com/kakaobrain/pororo.git"
      ],
      "metadata": {
        "id": "ZJoBwp60Cx76"
      },
      "execution_count": null,
      "outputs": []
    },
    {
      "cell_type": "code",
      "source": [
        "cd pororo"
      ],
      "metadata": {
        "id": "ksmdUN-2Cx24"
      },
      "execution_count": null,
      "outputs": []
    },
    {
      "cell_type": "code",
      "source": [
        "!pip install -e ."
      ],
      "metadata": {
        "id": "8mifFPL7DPYh"
      },
      "execution_count": null,
      "outputs": []
    },
    {
      "cell_type": "code",
      "source": [
        "from pororo import Pororo"
      ],
      "metadata": {
        "id": "kLT420hQGMXL"
      },
      "execution_count": null,
      "outputs": []
    },
    {
      "cell_type": "code",
      "source": [
        "# Pororo 제로샷 분류모델\n",
        "topic_cls = Pororo(task='zero-topic', lang='ko')"
      ],
      "metadata": {
        "id": "mb6eCy29CxzU"
      },
      "execution_count": null,
      "outputs": []
    },
    {
      "cell_type": "code",
      "execution_count": null,
      "metadata": {
        "id": "q1J5VUu_8YIl"
      },
      "outputs": [],
      "source": [
        "## 카테고리 토큰이 두 개 이상일 경우 메뉴명과 가장 가까운 토큰 선택\n",
        "def cat_eda(title, cats):\n",
        "  choice = []\n",
        "  for i, cats in tqdm(enumerate(cats)):\n",
        "    cat = cats.split()\n",
        "    if len(cat) >= 2:\n",
        "      result = topic_cls(title[i], cat)\n",
        "      close = max(result, key=(lambda k: result[k]))\n",
        "      choice.append(close)\n",
        "    else:\n",
        "      choice.append(cats)\n",
        "  return choice"
      ]
    },
    {
      "cell_type": "code",
      "source": [
        "cat_choice = cat_eda(data['title'], data['category'])\n",
        "data['category'] = cat_choice"
      ],
      "metadata": {
        "id": "8lQxa7W2IwEu"
      },
      "execution_count": null,
      "outputs": []
    },
    {
      "cell_type": "code",
      "source": [
        "data['category'].unique()"
      ],
      "metadata": {
        "id": "qZ7KDnB0IwBB"
      },
      "execution_count": null,
      "outputs": []
    },
    {
      "cell_type": "code",
      "source": [
        "## 카테고리가 영어일 경우는 따로 빼놓고 replace로 한글화 해주는 방법이 가장 정신 건강에 좋을 듯 싶다."
      ],
      "metadata": {
        "id": "u9dI7Mv7MTGF"
      },
      "execution_count": null,
      "outputs": []
    },
    {
      "cell_type": "code",
      "source": [],
      "metadata": {
        "id": "cJj7NDtcMS-0"
      },
      "execution_count": null,
      "outputs": []
    },
    {
      "cell_type": "code",
      "source": [],
      "metadata": {
        "id": "un6Qf-FRIv-n"
      },
      "execution_count": null,
      "outputs": []
    },
    {
      "cell_type": "code",
      "execution_count": null,
      "metadata": {
        "id": "eD5Di0fQGQd_"
      },
      "outputs": [],
      "source": [
        "## 키워드 뽑기 (빈도수)\n",
        "from soykeyword.proportion import CorpusbasedKeywordExtractor\n",
        "corpusbased_extractor = CorpusbasedKeywordExtractor(\n",
        "    min_tf=2,\n",
        "    min_df=1,\n",
        "    tokenize=lambda x:x.strip().split(),\n",
        "    verbose=True\n",
        ")\n",
        "\n",
        "# docs: list of str like\n",
        "corpusbased_extractor.train(df2['title'])"
      ]
    },
    {
      "cell_type": "code",
      "execution_count": null,
      "metadata": {
        "id": "awSotT4_HGDq"
      },
      "outputs": [],
      "source": [
        "keywords = corpusbased_extractor.extract_from_word(\n",
        "    '카모마일',\n",
        "    min_score=0.5,\n",
        "    min_frequency=0\n",
        ")"
      ]
    },
    {
      "cell_type": "code",
      "execution_count": null,
      "metadata": {
        "id": "0CljgjXWHK6E"
      },
      "outputs": [],
      "source": [
        "keywords"
      ]
    },
    {
      "cell_type": "code",
      "execution_count": null,
      "metadata": {
        "id": "1nH3O-d78dhy"
      },
      "outputs": [],
      "source": []
    },
    {
      "cell_type": "code",
      "execution_count": null,
      "metadata": {
        "id": "Gc-wqIRi8dfe"
      },
      "outputs": [],
      "source": []
    },
    {
      "cell_type": "markdown",
      "metadata": {
        "id": "gfSAZYWzogzc"
      },
      "source": [
        "## OrderQueen"
      ]
    },
    {
      "cell_type": "code",
      "execution_count": null,
      "metadata": {
        "id": "Oa5fvkWuol8Y"
      },
      "outputs": [],
      "source": [
        "orderQueen.info()"
      ]
    },
    {
      "cell_type": "code",
      "execution_count": null,
      "metadata": {
        "id": "B_Q8MihmpuXG"
      },
      "outputs": [],
      "source": [
        "orderQueen.duplicated().sum()"
      ]
    },
    {
      "cell_type": "code",
      "execution_count": null,
      "metadata": {
        "id": "DBoUvD_vo8lc"
      },
      "outputs": [],
      "source": [
        "orderQueen.head()"
      ]
    },
    {
      "cell_type": "code",
      "execution_count": null,
      "metadata": {
        "id": "H0zBBmWno-vN"
      },
      "outputs": [],
      "source": [
        "orderQueen.tail()"
      ]
    },
    {
      "cell_type": "code",
      "execution_count": null,
      "metadata": {
        "id": "RYvVZoc1o-ib"
      },
      "outputs": [],
      "source": []
    },
    {
      "cell_type": "code",
      "execution_count": null,
      "metadata": {
        "id": "diV8fA4Eo-f3"
      },
      "outputs": [],
      "source": []
    },
    {
      "cell_type": "markdown",
      "metadata": {
        "id": "LP_4aTeTotXr"
      },
      "source": [
        "# Unos"
      ]
    },
    {
      "cell_type": "code",
      "execution_count": null,
      "metadata": {
        "id": "HNbkFfAxouqP"
      },
      "outputs": [],
      "source": [
        "unos.info()"
      ]
    },
    {
      "cell_type": "code",
      "execution_count": null,
      "metadata": {
        "id": "mT5uPfa-oxBB"
      },
      "outputs": [],
      "source": [
        "unos[unos['카테고리명'].isnull()]"
      ]
    },
    {
      "cell_type": "code",
      "execution_count": null,
      "metadata": {
        "id": "PMjsHpBCoycU"
      },
      "outputs": [],
      "source": [
        "unos['메뉴코드'].duplicated().sum()"
      ]
    },
    {
      "cell_type": "code",
      "execution_count": null,
      "metadata": {
        "id": "R9cOeOE1o1hI"
      },
      "outputs": [],
      "source": [
        "unos.head()"
      ]
    },
    {
      "cell_type": "code",
      "execution_count": null,
      "metadata": {
        "id": "pnIaUWBBqATt"
      },
      "outputs": [],
      "source": [
        "unos.tail()"
      ]
    },
    {
      "cell_type": "code",
      "execution_count": null,
      "metadata": {
        "id": "RhUZyYs-qBjT"
      },
      "outputs": [],
      "source": []
    },
    {
      "cell_type": "code",
      "execution_count": null,
      "metadata": {
        "id": "m7UVzJUEqh-u"
      },
      "outputs": [],
      "source": []
    },
    {
      "cell_type": "markdown",
      "metadata": {
        "id": "dq6U2NsKqYHc"
      },
      "source": [
        "# Dirty Sample"
      ]
    },
    {
      "cell_type": "code",
      "execution_count": null,
      "metadata": {
        "id": "kIKt0gR-qbGl"
      },
      "outputs": [],
      "source": [
        "dirty.info()"
      ]
    },
    {
      "cell_type": "code",
      "execution_count": null,
      "metadata": {
        "id": "gWlDkmvnqdRX"
      },
      "outputs": [],
      "source": [
        "dirty"
      ]
    }
  ],
  "metadata": {
    "colab": {
      "private_outputs": true,
      "provenance": [],
      "include_colab_link": true
    },
    "kernelspec": {
      "display_name": "Python 3",
      "language": "python",
      "name": "python3"
    },
    "language_info": {
      "codemirror_mode": {
        "name": "ipython",
        "version": 3
      },
      "file_extension": ".py",
      "mimetype": "text/x-python",
      "name": "python",
      "nbconvert_exporter": "python",
      "pygments_lexer": "ipython3",
      "version": "3.9.15"
    },
    "vscode": {
      "interpreter": {
        "hash": "6dbdc5b68975dee69d23f0dc74c478333f5a27f2de42b1fa73ac5e64dbf8a98c"
      }
    }
  },
  "nbformat": 4,
  "nbformat_minor": 0
}